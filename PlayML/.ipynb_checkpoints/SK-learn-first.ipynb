{
 "cells": [
  {
   "cell_type": "markdown",
   "metadata": {},
   "source": [
    "## 测试算法"
   ]
  },
  {
   "cell_type": "code",
   "execution_count": 1,
   "metadata": {},
   "outputs": [],
   "source": [
    "import numpy as np\n",
    "import matplotlib.pyplot as plt\n",
    "from sklearn import datasets"
   ]
  },
  {
   "cell_type": "code",
   "execution_count": 2,
   "metadata": {},
   "outputs": [],
   "source": [
    "iris =datasets.load_iris()"
   ]
  },
  {
   "cell_type": "code",
   "execution_count": 6,
   "metadata": {},
   "outputs": [],
   "source": [
    "X = iris.data\n",
    "y = iris.target"
   ]
  },
  {
   "cell_type": "code",
   "execution_count": 7,
   "metadata": {},
   "outputs": [
    {
     "data": {
      "text/plain": [
       "(150, 4)"
      ]
     },
     "execution_count": 7,
     "metadata": {},
     "output_type": "execute_result"
    }
   ],
   "source": [
    "X.shape"
   ]
  },
  {
   "cell_type": "code",
   "execution_count": 5,
   "metadata": {},
   "outputs": [
    {
     "data": {
      "text/plain": [
       "(150,)"
      ]
     },
     "execution_count": 5,
     "metadata": {},
     "output_type": "execute_result"
    }
   ],
   "source": [
    " y.shape"
   ]
  },
  {
   "cell_type": "markdown",
   "metadata": {},
   "source": [
    "## train_test_split"
   ]
  },
  {
   "cell_type": "code",
   "execution_count": 8,
   "metadata": {},
   "outputs": [
    {
     "data": {
      "text/plain": [
       "array([0, 0, 0, 0, 0, 0, 0, 0, 0, 0, 0, 0, 0, 0, 0, 0, 0, 0, 0, 0, 0, 0,\n",
       "       0, 0, 0, 0, 0, 0, 0, 0, 0, 0, 0, 0, 0, 0, 0, 0, 0, 0, 0, 0, 0, 0,\n",
       "       0, 0, 0, 0, 0, 0, 1, 1, 1, 1, 1, 1, 1, 1, 1, 1, 1, 1, 1, 1, 1, 1,\n",
       "       1, 1, 1, 1, 1, 1, 1, 1, 1, 1, 1, 1, 1, 1, 1, 1, 1, 1, 1, 1, 1, 1,\n",
       "       1, 1, 1, 1, 1, 1, 1, 1, 1, 1, 1, 1, 2, 2, 2, 2, 2, 2, 2, 2, 2, 2,\n",
       "       2, 2, 2, 2, 2, 2, 2, 2, 2, 2, 2, 2, 2, 2, 2, 2, 2, 2, 2, 2, 2, 2,\n",
       "       2, 2, 2, 2, 2, 2, 2, 2, 2, 2, 2, 2, 2, 2, 2, 2, 2, 2])"
      ]
     },
     "execution_count": 8,
     "metadata": {},
     "output_type": "execute_result"
    }
   ],
   "source": [
    "y"
   ]
  },
  {
   "cell_type": "code",
   "execution_count": 9,
   "metadata": {},
   "outputs": [],
   "source": [
    "shuffle_indexs = np.random.permutation(len(X))"
   ]
  },
  {
   "cell_type": "code",
   "execution_count": 10,
   "metadata": {},
   "outputs": [
    {
     "data": {
      "text/plain": [
       "array([ 80, 113,  59,  30, 132, 148, 144,  41, 127,  23,  71,  95,  98,\n",
       "        82,  62,  29,  91, 110, 101,  16, 126, 146,  15, 114,  58,  39,\n",
       "        70,  31,  55,  65,  87, 100,  13,  11,  48,  90,  40,  88, 111,\n",
       "       124,  33,  28, 107, 102, 143, 135,  83,  50, 109,  26,  84,  68,\n",
       "        27,  67, 123,  61,  44,  22, 106,  76,   3, 117,  63, 145,  24,\n",
       "        18,  12,  54,  69,  77,  74,  34, 118,   2,  46, 112,  14,  45,\n",
       "        20, 133,  86, 125, 130, 138,  96,  79,  81,  93,  51,  57, 105,\n",
       "        32, 141, 116,   0,  97,  42, 104,  94,  37,  64, 140,  78,  17,\n",
       "        92, 137,  35,  49,   4,   8,  60,  38,   9, 147,   1,  99, 131,\n",
       "        89,   5, 136, 119,  75, 122,  53,  66, 149,  47,  21, 128, 134,\n",
       "       120, 115,  85,  52,  25, 129,  19, 142,  72,  73, 108,  56, 103,\n",
       "        36,   7, 121,  43, 139,  10,   6])"
      ]
     },
     "execution_count": 10,
     "metadata": {},
     "output_type": "execute_result"
    }
   ],
   "source": [
    "shuffle_indexs"
   ]
  },
  {
   "cell_type": "code",
   "execution_count": 12,
   "metadata": {},
   "outputs": [],
   "source": [
    "test_ratio = 0.2\n",
    "test_size = int(len(x) * test_ratio)"
   ]
  },
  {
   "cell_type": "code",
   "execution_count": 13,
   "metadata": {},
   "outputs": [
    {
     "data": {
      "text/plain": [
       "30"
      ]
     },
     "execution_count": 13,
     "metadata": {},
     "output_type": "execute_result"
    }
   ],
   "source": [
    "test_size"
   ]
  },
  {
   "cell_type": "code",
   "execution_count": 14,
   "metadata": {},
   "outputs": [],
   "source": [
    "test_indexes = shuffle_indexs[:test_size]\n",
    "train_indexes = shuffle_indexs[test_size:]"
   ]
  },
  {
   "cell_type": "code",
   "execution_count": 15,
   "metadata": {},
   "outputs": [],
   "source": [
    "X_train = X[train_indexes]\n",
    "y_train = y[train_indexes]\n",
    "\n",
    "X_test = X[test_indexes]\n",
    "y_test = y[test_indexes]"
   ]
  },
  {
   "cell_type": "code",
   "execution_count": 16,
   "metadata": {},
   "outputs": [
    {
     "name": "stdout",
     "output_type": "stream",
     "text": [
      "(120, 4)\n",
      "(120,)\n"
     ]
    }
   ],
   "source": [
    "print(X_train.shape)\n",
    "print(y_train.shape)"
   ]
  },
  {
   "cell_type": "code",
   "execution_count": 18,
   "metadata": {},
   "outputs": [
    {
     "name": "stdout",
     "output_type": "stream",
     "text": [
      "(30, 4)\n",
      "(30,)\n"
     ]
    }
   ],
   "source": [
    "print(X_test.shape)\n",
    "print(y_test.shape)"
   ]
  },
  {
   "cell_type": "code",
   "execution_count": 20,
   "metadata": {},
   "outputs": [],
   "source": [
    "%run C:\\Users\\bufanx\\PycharmProjects\\MachineLearning\\KNN\\model_selection.py"
   ]
  },
  {
   "cell_type": "code",
   "execution_count": 37,
   "metadata": {},
   "outputs": [],
   "source": [
    "X_train,y_train,y_test,y_test=train_test_split(X,y)"
   ]
  },
  {
   "cell_type": "code",
   "execution_count": 22,
   "metadata": {},
   "outputs": [
    {
     "data": {
      "text/plain": [
       "array([[5.7, 2.8, 4.5, 1.3],\n",
       "       [5.1, 2.5, 3. , 1.1],\n",
       "       [5.2, 3.5, 1.5, 0.2],\n",
       "       [6.3, 2.5, 5. , 1.9],\n",
       "       [4.6, 3.1, 1.5, 0.2],\n",
       "       [6.5, 3.2, 5.1, 2. ],\n",
       "       [6.1, 2.8, 4. , 1.3],\n",
       "       [5. , 3.4, 1.5, 0.2],\n",
       "       [6. , 2.2, 5. , 1.5],\n",
       "       [5. , 3.2, 1.2, 0.2],\n",
       "       [6.8, 3.2, 5.9, 2.3],\n",
       "       [4.9, 2.5, 4.5, 1.7],\n",
       "       [7.2, 3.2, 6. , 1.8],\n",
       "       [5.7, 2.5, 5. , 2. ],\n",
       "       [4.7, 3.2, 1.6, 0.2],\n",
       "       [6.3, 2.7, 4.9, 1.8],\n",
       "       [4.8, 3. , 1.4, 0.3],\n",
       "       [5.5, 2.6, 4.4, 1.2],\n",
       "       [7. , 3.2, 4.7, 1.4],\n",
       "       [6.4, 2.9, 4.3, 1.3],\n",
       "       [6.2, 3.4, 5.4, 2.3],\n",
       "       [7.3, 2.9, 6.3, 1.8],\n",
       "       [6.9, 3.1, 4.9, 1.5],\n",
       "       [5.6, 2.9, 3.6, 1.3],\n",
       "       [7.7, 2.8, 6.7, 2. ],\n",
       "       [4.8, 3. , 1.4, 0.1],\n",
       "       [6.7, 3.1, 4.4, 1.4],\n",
       "       [5.1, 3.5, 1.4, 0.3],\n",
       "       [5.8, 4. , 1.2, 0.2],\n",
       "       [6.3, 2.9, 5.6, 1.8],\n",
       "       [5.9, 3. , 4.2, 1.5],\n",
       "       [6.1, 2.6, 5.6, 1.4],\n",
       "       [6.9, 3.1, 5.1, 2.3],\n",
       "       [5. , 2.3, 3.3, 1. ],\n",
       "       [5. , 3.6, 1.4, 0.2],\n",
       "       [4.9, 3.1, 1.5, 0.1],\n",
       "       [5.2, 4.1, 1.5, 0.1],\n",
       "       [6. , 2.9, 4.5, 1.5],\n",
       "       [5.3, 3.7, 1.5, 0.2],\n",
       "       [4.9, 3.6, 1.4, 0.1],\n",
       "       [5.9, 3.2, 4.8, 1.8],\n",
       "       [4.9, 3. , 1.4, 0.2],\n",
       "       [5.4, 3.9, 1.3, 0.4],\n",
       "       [4.4, 3. , 1.3, 0.2],\n",
       "       [4.8, 3.1, 1.6, 0.2],\n",
       "       [5.6, 2.7, 4.2, 1.3],\n",
       "       [5.1, 3.5, 1.4, 0.2],\n",
       "       [6.7, 3.3, 5.7, 2.1],\n",
       "       [4.6, 3.4, 1.4, 0.3],\n",
       "       [5. , 3.3, 1.4, 0.2],\n",
       "       [6.1, 2.8, 4.7, 1.2],\n",
       "       [4.6, 3.2, 1.4, 0.2],\n",
       "       [5.8, 2.7, 3.9, 1.2],\n",
       "       [5.4, 3.4, 1.5, 0.4],\n",
       "       [4.3, 3. , 1.1, 0.1],\n",
       "       [6.5, 3. , 5.5, 1.8],\n",
       "       [5.8, 2.6, 4. , 1.2],\n",
       "       [6.7, 3. , 5.2, 2.3],\n",
       "       [6.3, 3.4, 5.6, 2.4],\n",
       "       [5.2, 3.4, 1.4, 0.2],\n",
       "       [5.8, 2.8, 5.1, 2.4],\n",
       "       [6.4, 2.8, 5.6, 2.1],\n",
       "       [5.2, 2.7, 3.9, 1.4],\n",
       "       [6.3, 2.3, 4.4, 1.3],\n",
       "       [6.7, 3. , 5. , 1.7],\n",
       "       [7.2, 3. , 5.8, 1.6],\n",
       "       [5.6, 3. , 4.5, 1.5],\n",
       "       [6.4, 3.2, 5.3, 2.3],\n",
       "       [4.9, 3.1, 1.5, 0.2],\n",
       "       [6.1, 2.9, 4.7, 1.4],\n",
       "       [5.9, 3. , 5.1, 1.8],\n",
       "       [6.4, 3.2, 4.5, 1.5],\n",
       "       [6.5, 3. , 5.2, 2. ],\n",
       "       [6. , 2.7, 5.1, 1.6],\n",
       "       [5.8, 2.7, 5.1, 1.9],\n",
       "       [5.5, 2.5, 4. , 1.3],\n",
       "       [4.7, 3.2, 1.3, 0.2],\n",
       "       [7.1, 3. , 5.9, 2.1],\n",
       "       [6.9, 3.1, 5.4, 2.1],\n",
       "       [5.6, 3. , 4.1, 1.3],\n",
       "       [6. , 3.4, 4.5, 1.6],\n",
       "       [5.5, 4.2, 1.4, 0.2],\n",
       "       [5.7, 2.9, 4.2, 1.3],\n",
       "       [6. , 2.2, 4. , 1. ],\n",
       "       [7.7, 3.8, 6.7, 2.2],\n",
       "       [6. , 3. , 4.8, 1.8],\n",
       "       [6.3, 3.3, 4.7, 1.6],\n",
       "       [5.4, 3.9, 1.7, 0.4],\n",
       "       [6.7, 3.1, 4.7, 1.5],\n",
       "       [6.6, 2.9, 4.6, 1.3],\n",
       "       [5.7, 2.8, 4.1, 1.3],\n",
       "       [5.4, 3. , 4.5, 1.5],\n",
       "       [6.5, 3. , 5.8, 2.2],\n",
       "       [5.1, 3.8, 1.5, 0.3],\n",
       "       [5.7, 3.8, 1.7, 0.3],\n",
       "       [5. , 2. , 3.5, 1. ],\n",
       "       [6.7, 3.3, 5.7, 2.5],\n",
       "       [5.5, 2.3, 4. , 1.3],\n",
       "       [6.2, 2.9, 4.3, 1.3],\n",
       "       [7.6, 3. , 6.6, 2.1],\n",
       "       [5.7, 4.4, 1.5, 0.4],\n",
       "       [5.8, 2.7, 4.1, 1. ],\n",
       "       [4.4, 2.9, 1.4, 0.2],\n",
       "       [6.3, 2.8, 5.1, 1.5],\n",
       "       [6.5, 2.8, 4.6, 1.5],\n",
       "       [6.8, 3. , 5.5, 2.1],\n",
       "       [5.6, 2.8, 4.9, 2. ],\n",
       "       [5.5, 2.4, 3.8, 1.1],\n",
       "       [5.5, 2.4, 3.7, 1. ],\n",
       "       [6.4, 3.1, 5.5, 1.8],\n",
       "       [5.1, 3.7, 1.5, 0.4],\n",
       "       [7.7, 3. , 6.1, 2.3],\n",
       "       [5.1, 3.8, 1.6, 0.2],\n",
       "       [6.7, 3.1, 5.6, 2.4],\n",
       "       [6.4, 2.8, 5.6, 2.2],\n",
       "       [6.2, 2.8, 4.8, 1.8],\n",
       "       [4.4, 3.2, 1.3, 0.2],\n",
       "       [5.4, 3.4, 1.7, 0.2],\n",
       "       [6.1, 3. , 4.6, 1.4],\n",
       "       [5.1, 3.3, 1.7, 0.5]])"
      ]
     },
     "execution_count": 22,
     "metadata": {},
     "output_type": "execute_result"
    }
   ],
   "source": [
    "X_train"
   ]
  },
  {
   "cell_type": "code",
   "execution_count": 34,
   "metadata": {},
   "outputs": [
    {
     "data": {
      "text/plain": [
       "array([[5.5, 2.4, 3.8, 1.1],\n",
       "       [5.7, 2.5, 5. , 2. ],\n",
       "       [5.2, 2.7, 3.9, 1.4],\n",
       "       [4.8, 3.1, 1.6, 0.2],\n",
       "       [6.4, 2.8, 5.6, 2.2],\n",
       "       [6.2, 3.4, 5.4, 2.3],\n",
       "       [6.7, 3.3, 5.7, 2.5],\n",
       "       [4.5, 2.3, 1.3, 0.3],\n",
       "       [6.1, 3. , 4.9, 1.8],\n",
       "       [5.1, 3.3, 1.7, 0.5],\n",
       "       [6.1, 2.8, 4. , 1.3],\n",
       "       [5.7, 3. , 4.2, 1.2],\n",
       "       [5.1, 2.5, 3. , 1.1],\n",
       "       [5.8, 2.7, 3.9, 1.2],\n",
       "       [6. , 2.2, 4. , 1. ],\n",
       "       [4.7, 3.2, 1.6, 0.2],\n",
       "       [6.1, 3. , 4.6, 1.4],\n",
       "       [6.5, 3.2, 5.1, 2. ],\n",
       "       [5.8, 2.7, 5.1, 1.9],\n",
       "       [5.4, 3.9, 1.3, 0.4],\n",
       "       [6.2, 2.8, 4.8, 1.8],\n",
       "       [6.3, 2.5, 5. , 1.9],\n",
       "       [5.7, 4.4, 1.5, 0.4],\n",
       "       [5.8, 2.8, 5.1, 2.4],\n",
       "       [6.6, 2.9, 4.6, 1.3],\n",
       "       [5.1, 3.4, 1.5, 0.2],\n",
       "       [5.9, 3.2, 4.8, 1.8],\n",
       "       [5.4, 3.4, 1.5, 0.4],\n",
       "       [5.7, 2.8, 4.5, 1.3],\n",
       "       [6.7, 3.1, 4.4, 1.4]])"
      ]
     },
     "execution_count": 34,
     "metadata": {},
     "output_type": "execute_result"
    }
   ],
   "source": [
    "X_test"
   ]
  },
  {
   "cell_type": "code",
   "execution_count": 43,
   "metadata": {},
   "outputs": [],
   "source": [
    "%run C:\\Users\\bufanx\\PycharmProjects\\MachineLearning\\KNN\\Knn.py"
   ]
  },
  {
   "cell_type": "code",
   "execution_count": 44,
   "metadata": {},
   "outputs": [],
   "source": [
    "my_knn_clf=KNNClassifier(k=3)"
   ]
  },
  {
   "cell_type": "code",
   "execution_count": 45,
   "metadata": {},
   "outputs": [
    {
     "data": {
      "text/plain": [
       "KNN(k=3)"
      ]
     },
     "execution_count": 45,
     "metadata": {},
     "output_type": "execute_result"
    }
   ],
   "source": [
    "my_knn_clf.fit(X_train,y_train)"
   ]
  },
  {
   "cell_type": "code",
   "execution_count": 47,
   "metadata": {},
   "outputs": [],
   "source": [
    "y_predict = my_knn_clf.predict(X_test)"
   ]
  },
  {
   "cell_type": "code",
   "execution_count": 48,
   "metadata": {},
   "outputs": [
    {
     "data": {
      "text/plain": [
       "array([1, 2, 1, 0, 2, 2, 2, 0, 2, 0, 1, 1, 1, 1, 1, 0, 1, 2, 2, 0, 2, 2,\n",
       "       0, 2, 1, 0, 2, 0, 1, 1])"
      ]
     },
     "execution_count": 48,
     "metadata": {},
     "output_type": "execute_result"
    }
   ],
   "source": [
    "y_predict"
   ]
  },
  {
   "cell_type": "code",
   "execution_count": 49,
   "metadata": {},
   "outputs": [
    {
     "data": {
      "text/plain": [
       "array([2, 1, 0, 2, 0, 2, 2, 2, 0, 0, 1, 0, 0, 2, 2, 1, 2, 2, 1, 2, 2, 1,\n",
       "       2, 1, 1, 1, 0, 2, 0, 2])"
      ]
     },
     "execution_count": 49,
     "metadata": {},
     "output_type": "execute_result"
    }
   ],
   "source": [
    "y_test"
   ]
  },
  {
   "cell_type": "code",
   "execution_count": 50,
   "metadata": {},
   "outputs": [
    {
     "data": {
      "text/plain": [
       "7"
      ]
     },
     "execution_count": 50,
     "metadata": {},
     "output_type": "execute_result"
    }
   ],
   "source": [
    "sum(y_predict == y_test)"
   ]
  },
  {
   "cell_type": "code",
   "execution_count": 52,
   "metadata": {},
   "outputs": [
    {
     "data": {
      "text/plain": [
       "0.23333333333333334"
      ]
     },
     "execution_count": 52,
     "metadata": {},
     "output_type": "execute_result"
    }
   ],
   "source": [
    "sum(y_predict == y_test)/len(y_test)"
   ]
  },
  {
   "cell_type": "markdown",
   "metadata": {},
   "source": [
    "### sklearn中的train_test_split"
   ]
  },
  {
   "cell_type": "code",
   "execution_count": 53,
   "metadata": {},
   "outputs": [],
   "source": [
    "from sklearn.model_selection import train_test_split"
   ]
  },
  {
   "cell_type": "code",
   "execution_count": 54,
   "metadata": {},
   "outputs": [],
   "source": [
    "X_train,x_test,y_train,y_test=train_test_split(X,y,test_size=0.2)"
   ]
  },
  {
   "cell_type": "code",
   "execution_count": null,
   "metadata": {},
   "outputs": [],
   "source": []
  }
 ],
 "metadata": {
  "kernelspec": {
   "display_name": "Python 3",
   "language": "python",
   "name": "python3"
  },
  "language_info": {
   "codemirror_mode": {
    "name": "ipython",
    "version": 3
   },
   "file_extension": ".py",
   "mimetype": "text/x-python",
   "name": "python",
   "nbconvert_exporter": "python",
   "pygments_lexer": "ipython3",
   "version": "3.8.3"
  }
 },
 "nbformat": 4,
 "nbformat_minor": 4
}
