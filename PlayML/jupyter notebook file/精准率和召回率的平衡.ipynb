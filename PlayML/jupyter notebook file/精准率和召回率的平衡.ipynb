{
 "cells": [
  {
   "cell_type": "code",
   "execution_count": 1,
   "metadata": {
    "collapsed": true
   },
   "outputs": [],
   "source": [
    "import numpy as np\n",
    "import matplotlib.pyplot as plt"
   ]
  },
  {
   "cell_type": "code",
   "execution_count": 11,
   "outputs": [],
   "source": [
    "from sklearn import datasets\n",
    "\n",
    "digits = datasets.load_digits()\n",
    "X = digits.data\n",
    "y=digits.target.copy()\n",
    "\n",
    "y[digits.target == 9] = 1\n",
    "y[digits.target != 9] = 0"
   ],
   "metadata": {
    "collapsed": false,
    "pycharm": {
     "name": "#%%\n"
    }
   }
  },
  {
   "cell_type": "code",
   "execution_count": 12,
   "outputs": [],
   "source": [
    "from sklearn.model_selection import train_test_split\n",
    "\n",
    "X_train,X_test,y_train,y_test = train_test_split(X,y,random_state=666)\n"
   ],
   "metadata": {
    "collapsed": false,
    "pycharm": {
     "name": "#%%\n"
    }
   }
  },
  {
   "cell_type": "code",
   "execution_count": 13,
   "outputs": [],
   "source": [
    "from sklearn.linear_model import LogisticRegression\n",
    "\n",
    "lor_reg = LogisticRegression()"
   ],
   "metadata": {
    "collapsed": false,
    "pycharm": {
     "name": "#%%\n"
    }
   }
  },
  {
   "cell_type": "code",
   "execution_count": 14,
   "outputs": [
    {
     "name": "stderr",
     "output_type": "stream",
     "text": [
      "c:\\programdata\\anaconda3\\envs\\zyc\\lib\\site-packages\\sklearn\\linear_model\\_logistic.py:763: ConvergenceWarning: lbfgs failed to converge (status=1):\n",
      "STOP: TOTAL NO. of ITERATIONS REACHED LIMIT.\n",
      "\n",
      "Increase the number of iterations (max_iter) or scale the data as shown in:\n",
      "    https://scikit-learn.org/stable/modules/preprocessing.html\n",
      "Please also refer to the documentation for alternative solver options:\n",
      "    https://scikit-learn.org/stable/modules/linear_model.html#logistic-regression\n",
      "  n_iter_i = _check_optimize_result(\n"
     ]
    }
   ],
   "source": [
    "lor_reg.fit(X_train,y_train)\n",
    "y_predict = lor_reg.predict(X_test)"
   ],
   "metadata": {
    "collapsed": false,
    "pycharm": {
     "name": "#%%\n"
    }
   }
  },
  {
   "cell_type": "code",
   "execution_count": 15,
   "outputs": [
    {
     "data": {
      "text/plain": "0.8674698795180723"
     },
     "execution_count": 15,
     "metadata": {},
     "output_type": "execute_result"
    }
   ],
   "source": [
    "from sklearn.metrics import f1_score\n",
    "\n",
    "f1_score(y_test,y_predict)\n"
   ],
   "metadata": {
    "collapsed": false,
    "pycharm": {
     "name": "#%%\n"
    }
   }
  },
  {
   "cell_type": "code",
   "execution_count": 16,
   "outputs": [
    {
     "data": {
      "text/plain": "array([[403,   2],\n       [  9,  36]], dtype=int64)"
     },
     "execution_count": 16,
     "metadata": {},
     "output_type": "execute_result"
    }
   ],
   "source": [
    "from sklearn.metrics import confusion_matrix\n",
    "\n",
    "confusion_matrix(y_test,y_predict)\n"
   ],
   "metadata": {
    "collapsed": false,
    "pycharm": {
     "name": "#%%\n"
    }
   }
  },
  {
   "cell_type": "code",
   "execution_count": 17,
   "outputs": [
    {
     "data": {
      "text/plain": "0.9473684210526315"
     },
     "execution_count": 17,
     "metadata": {},
     "output_type": "execute_result"
    }
   ],
   "source": [
    "from sklearn.metrics import precision_score\n",
    "\n",
    "precision_score(y_test,y_predict)"
   ],
   "metadata": {
    "collapsed": false,
    "pycharm": {
     "name": "#%%\n"
    }
   }
  },
  {
   "cell_type": "code",
   "execution_count": 18,
   "outputs": [
    {
     "data": {
      "text/plain": "0.8"
     },
     "execution_count": 18,
     "metadata": {},
     "output_type": "execute_result"
    }
   ],
   "source": [
    "from sklearn.metrics import recall_score\n",
    "\n",
    "recall_score(y_test,y_predict)"
   ],
   "metadata": {
    "collapsed": false,
    "pycharm": {
     "name": "#%%\n"
    }
   }
  },
  {
   "cell_type": "code",
   "execution_count": 19,
   "outputs": [
    {
     "data": {
      "text/plain": "array([-21.39854362, -32.89732861, -16.41806543, -79.82324711,\n       -48.03301319, -24.1825065 , -44.61001539, -24.24470013,\n        -1.14286376, -19.00460513, -65.82299987, -50.9707066 ,\n       -30.92073612, -45.94866867, -37.36152112, -29.51341023,\n       -36.92851844, -82.80981004, -37.63662308,  -9.87876314,\n        -9.26812633, -85.25163727, -16.75034146, -45.34427689,\n        -5.02565026, -48.29807287, -11.65878414, -37.36063122,\n       -25.08299722, -13.59761546, -16.59531872, -28.7859973 ,\n       -34.36790583, -28.52336238,  -8.11461317,  -4.60241698,\n       -21.94218483, -21.87785805, -31.17528817, -23.36482534,\n       -26.90558935, -62.23613637, -37.6869895 , -66.36558822,\n       -20.10369518, -16.68540499, -18.16732516, -21.54926747,\n       -28.96548357, -19.61414667,   2.41254155,   7.72933988,\n       -34.87166204, -42.70949406, -25.632425  , -34.75120137,\n        -7.59780389, -49.51341444, -51.52646985,  19.66207067,\n       -10.09740962, -32.00616175, -11.4993307 ,  -1.42876257,\n       -48.69524334, -43.8730429 , -24.83994951, -19.60226171,\n       -36.64226172,  -3.52335852,  -4.44436404, -19.209781  ,\n       -20.35742333, -40.89510257, -11.86012973, -32.7541573 ,\n       -35.75875158, -28.59913905, -55.41729726, -18.82664711,\n         4.5682404 , -16.4660693 , -76.77542402, -58.24484259,\n       -30.24364253, -29.42229548, -33.41705599,  -8.41818012,\n       -47.91662698, -65.49748143, -16.90893968, -22.17254413,\n       -11.28530027, -18.66751365, -69.22410951, -46.3951207 ,\n       -39.45323936, -35.92432426, -17.72150318, -62.96857279,\n       -16.85795329, -55.14498623, -28.77108942, -68.47974456,\n       -68.85416605,  -6.50136295, -25.51782944, -38.31133775,\n       -27.46923005, -15.54377337, -27.4781766 , -20.33337662,\n        12.07447686, -23.08757587, -35.96870559, -29.87589934,\n       -68.95694328, -27.32870095, -54.23515694, -24.63209538,\n       -11.85488858, -47.36685587,  -2.75054405, -59.68913455,\n       -30.98865938,  -8.98747175, -70.83689478, -56.97844075,\n       -20.07698191, -21.49973605, -68.28666175, -18.91063069,\n       -38.59825952, -57.3638396 ,  -0.91081921, -22.51021601,\n       -22.66182024, -28.99922669, -32.78426312, -20.43322559,\n       -11.35357323,   4.63068492,   6.26726049,   1.4886901 ,\n        -7.63734795, -39.24012475,  12.15625197, -74.54384551,\n       -75.08653275, -49.97468181, -11.63090578, -47.61953766,\n       -75.41241165, -29.89886662, -63.93521483,  -7.26082531,\n        -6.6427047 , -18.21987917, -32.47670344, -17.93510823,\n       -43.33421802, -32.70720999, -34.29955293, -72.74688829,\n       -15.1908963 ,  11.48049495, -56.40999874,  -6.03926461,\n       -48.38607043, -16.44643263,  -2.13691543, -11.85715301,\n       -33.26554465, -51.34064328, -10.38649446, -17.18847205,\n        -5.23985319, -25.19385595, -15.70682535,   3.55337472,\n       -45.03755624, -12.58187167, -25.37992542, -16.5681234 ,\n       -22.17702677, -82.50126647,  -5.88111012, -20.25638507,\n       -20.46388851, -26.81008331, -25.98514327, -40.44932768,\n       -38.01112393, -26.96274721, -23.75635312, -20.15715028,\n        -9.6920683 , -19.68000457, -42.49307496, -44.13487319,\n       -15.65389379, -64.03054719, -24.55646226, -56.30571168,\n       -13.01342359, -29.66645684,   3.8978738 , -44.33548636,\n        -7.92235589,   1.14540045,  -2.81819896, -11.92930228,\n         7.5086691 ,  -7.17718192, -46.39835394, -48.65871061,\n        -4.5995591 , -19.05430351, -24.0725655 , -48.76356379,\n       -15.01627318, -24.92147667, -16.69771374, -18.68323114,\n       -15.7020552 , -16.8639386 , -38.52714444, -31.09381634,\n        -9.37787397, -71.44540638, -22.76539321, -14.43831398,\n       -23.08135826, -34.31920498,  -0.8921569 , -32.73900952,\n       -11.21735147, -18.6738802 ,  -8.2148021 , -45.43319042,\n       -22.30559237, -62.38992061, -46.77029127, -65.15240938,\n       -33.2263357 , -23.47532311, -28.51013255, -64.78917605,\n         1.45291586,  -4.09359003, -25.64601527, -22.320368  ,\n       -54.68665439, -16.34072819, -12.06739612, -35.28207145,\n        -5.73922064, -13.52373298, -72.27728971,  -6.1655308 ,\n        -1.16498423, -35.58081886, -24.15387505, -68.3153559 ,\n        14.76607122, -63.06270888,   9.91151554, -24.14776033,\n       -32.45735964, -14.3880426 , -85.7283482 , -12.77872843,\n         8.9948493 , -16.51784254, -36.67231859, -16.51510017,\n       -19.35715293, -32.58342175,  -5.64340465,   7.68476868,\n         9.38955275,   5.85387416, -35.64899254, -12.98319039,\n       -54.42347776, -41.10885828,   5.63259928, -79.47931314,\n       -15.82646616, -19.23206309, -10.86312616, -42.52168313,\n       -19.81798894, -15.70488775, -17.99795625, -18.02262065,\n        -6.75865629, -20.78795694, -16.58126898, -70.42121883,\n        -9.21344599, -31.7039068 , -19.6757092 , -21.959283  ,\n       -24.77109206, -16.38816963, -13.36796459, -22.9328466 ,\n        11.06090034, -15.37091294, -32.94045325, -13.74645469,\n       -50.35819053, -20.45551403, -56.27095388, -28.68677302,\n       -21.86523336, -30.41659726, -69.26037207, -59.34712149,\n        14.3410116 ,   8.57800789, -25.66231031,   2.74056659,\n         4.93299733, -19.66547793, -58.82499223, -10.00836841,\n       -28.80945167, -27.20349988,   6.28880116, -80.46791581,\n       -34.45720788, -50.28485842, -35.9507171 , -48.63145612,\n       -18.01185764, -62.34286355,  -3.0996903 , -25.26353098,\n       -64.10526575,  -9.61671232, -21.76571262,  19.89913588,\n       -18.75262553,  -4.46641826, -13.15019924, -21.64296128,\n       -43.10024267, -52.10341542, -28.53120529, -14.54914911,\n        -2.47642832,  -6.1212025 ,   3.69197118, -15.00631396,\n       -40.85872406, -26.64372578,  14.10782543, -17.68802532,\n        15.18173233, -33.0963616 ,   5.26057367, -14.27034236,\n       -53.58423492, -50.04143042, -30.66806533, -38.05240212,\n       -23.29212485, -24.69599939, -13.5734495 , -22.62541465,\n       -27.22893117, -19.64731723, -28.17684294, -19.93557485,\n       -29.85233092, -11.2877207 , -17.24378466, -24.03106327,\n       -24.3554438 ,  10.39152599, -17.21024803, -38.02159637,\n       -16.08428433, -37.57463812, -16.32764597, -69.12218172,\n       -33.6778877 , -43.62664864, -26.61437644, -10.32502758,\n       -66.36074799, -31.90314582, -45.56404779, -14.57838701,\n       -36.13640646, -14.94388662, -70.01823884, -11.35652005,\n       -40.86233156, -32.65559904, -19.77135602, -27.5815246 ,\n       -15.73464833, -31.5761537 ,  -8.50568921, -21.38394131,\n       -34.07108028, -11.6873966 , -36.42470066, -34.78629726,\n       -22.21787916,   4.77426265, -21.31056545,  -4.4535185 ,\n       -20.81942767, -32.26053054, -41.11488315, -25.0841548 ,\n       -19.76245257, -47.86608315, -30.8941555 , -45.55561049,\n       -71.52152109,  -6.25500532, -32.56343821,   2.27406579,\n        11.93718946,   7.11808119, -31.36309241, -63.9582853 ,\n       -23.78892751,  -5.73652411, -32.42581034, -24.71400771,\n       -67.69981119, -32.83302786, -33.60885918, -31.53201487,\n       -51.97754582, -22.54572379,  -7.74389985, -17.30047741,\n       -25.78854873, -32.37595126, -29.48409366, -66.43199321,\n       -45.70157591, -16.05040252])"
     },
     "execution_count": 19,
     "metadata": {},
     "output_type": "execute_result"
    }
   ],
   "source": [
    "lor_reg.decision_function(X_test)\n"
   ],
   "metadata": {
    "collapsed": false,
    "pycharm": {
     "name": "#%%\n"
    }
   }
  },
  {
   "cell_type": "code",
   "execution_count": 20,
   "outputs": [
    {
     "data": {
      "text/plain": "array([-21.39854362, -32.89732861, -16.41806543, -79.82324711,\n       -48.03301319, -24.1825065 , -44.61001539, -24.24470013,\n        -1.14286376, -19.00460513])"
     },
     "execution_count": 20,
     "metadata": {},
     "output_type": "execute_result"
    }
   ],
   "source": [
    "lor_reg.decision_function(X_test)[:10]\n"
   ],
   "metadata": {
    "collapsed": false,
    "pycharm": {
     "name": "#%%\n"
    }
   }
  },
  {
   "cell_type": "code",
   "execution_count": 21,
   "outputs": [
    {
     "data": {
      "text/plain": "array([0, 0, 0, 0, 0, 0, 0, 0, 0, 0])"
     },
     "execution_count": 21,
     "metadata": {},
     "output_type": "execute_result"
    }
   ],
   "source": [
    "lor_reg.predict(X_test)[:10]\n"
   ],
   "metadata": {
    "collapsed": false,
    "pycharm": {
     "name": "#%%\n"
    }
   }
  },
  {
   "cell_type": "code",
   "execution_count": 22,
   "outputs": [],
   "source": [
    "decision_scores = lor_reg.decision_function(X_test)\n"
   ],
   "metadata": {
    "collapsed": false,
    "pycharm": {
     "name": "#%%\n"
    }
   }
  },
  {
   "cell_type": "code",
   "execution_count": 23,
   "outputs": [
    {
     "data": {
      "text/plain": "-85.72834819853409"
     },
     "execution_count": 23,
     "metadata": {},
     "output_type": "execute_result"
    }
   ],
   "source": [
    "np.min(decision_scores)"
   ],
   "metadata": {
    "collapsed": false,
    "pycharm": {
     "name": "#%%\n"
    }
   }
  },
  {
   "cell_type": "code",
   "execution_count": 24,
   "outputs": [
    {
     "data": {
      "text/plain": "19.899135882295568"
     },
     "execution_count": 24,
     "metadata": {},
     "output_type": "execute_result"
    }
   ],
   "source": [
    "np.max(decision_scores)"
   ],
   "metadata": {
    "collapsed": false,
    "pycharm": {
     "name": "#%%\n"
    }
   }
  },
  {
   "cell_type": "code",
   "execution_count": 25,
   "outputs": [],
   "source": [
    "y_predict2 = np.array(decision_scores >= 5,dtype='int')\n"
   ],
   "metadata": {
    "collapsed": false,
    "pycharm": {
     "name": "#%%\n"
    }
   }
  },
  {
   "cell_type": "code",
   "execution_count": 26,
   "outputs": [
    {
     "data": {
      "text/plain": "array([[404,   1],\n       [ 21,  24]], dtype=int64)"
     },
     "execution_count": 26,
     "metadata": {},
     "output_type": "execute_result"
    }
   ],
   "source": [
    "confusion_matrix(y_test,y_predict2)\n"
   ],
   "metadata": {
    "collapsed": false,
    "pycharm": {
     "name": "#%%\n"
    }
   }
  },
  {
   "cell_type": "code",
   "execution_count": 27,
   "outputs": [
    {
     "data": {
      "text/plain": "0.96"
     },
     "execution_count": 27,
     "metadata": {},
     "output_type": "execute_result"
    }
   ],
   "source": [
    "precision_score(y_test,y_predict2)\n"
   ],
   "metadata": {
    "collapsed": false,
    "pycharm": {
     "name": "#%%\n"
    }
   }
  },
  {
   "cell_type": "code",
   "execution_count": 28,
   "outputs": [
    {
     "data": {
      "text/plain": "0.5333333333333333"
     },
     "execution_count": 28,
     "metadata": {},
     "output_type": "execute_result"
    }
   ],
   "source": [
    "recall_score(y_test,y_predict2)"
   ],
   "metadata": {
    "collapsed": false,
    "pycharm": {
     "name": "#%%\n"
    }
   }
  },
  {
   "cell_type": "code",
   "execution_count": 29,
   "outputs": [],
   "source": [
    "precisions = []\n",
    "recalls = []\n",
    "thresholds=np.arange(np.min(decision_scores),np.max(decision_scores),0.1)\n",
    "for threshold in thresholds:\n",
    "    y_predict =np.array(decision_scores >= threshold,dtype='int')\n",
    "    precisions.append(precision_score(y_test,y_predict))\n",
    "    recalls.append(recall_score(y_test,y_predict))"
   ],
   "metadata": {
    "collapsed": false,
    "pycharm": {
     "name": "#%%\n"
    }
   }
  },
  {
   "cell_type": "code",
   "execution_count": 30,
   "outputs": [
    {
     "data": {
      "text/plain": "[<matplotlib.lines.Line2D at 0x1c36541fc40>]"
     },
     "execution_count": 30,
     "metadata": {},
     "output_type": "execute_result"
    },
    {
     "data": {
      "text/plain": "<Figure size 432x288 with 1 Axes>",
      "image/png": "[encoded data removed]"
     },
     "metadata": {
      "needs_background": "light"
     },
     "output_type": "display_data"
    }
   ],
   "source": [
    "plt.plot(thresholds,precisions)\n",
    "plt.plot(thresholds,recalls)\n"
   ],
   "metadata": {
    "collapsed": false,
    "pycharm": {
     "name": "#%%\n"
    }
   }
  },
  {
   "cell_type": "markdown",
   "source": [
    "### Precision-Recall 曲线\n",
    "\n"
   ],
   "metadata": {
    "collapsed": false,
    "pycharm": {
     "name": "#%% md\n"
    }
   }
  },
  {
   "cell_type": "code",
   "execution_count": 39,
   "outputs": [
    {
     "data": {
      "text/plain": "[<matplotlib.lines.Line2D at 0x1c365841dc0>]"
     },
     "execution_count": 39,
     "metadata": {},
     "output_type": "execute_result"
    },
    {
     "data": {
      "text/plain": "<Figure size 432x288 with 1 Axes>",
      "image/png": "[encoded data removed]"
     },
     "metadata": {
      "needs_background": "light"
     },
     "output_type": "display_data"
    }
   ],
   "source": [
    "\n",
    "plt.plot(precisions,recalls)"
   ],
   "metadata": {
    "collapsed": false,
    "pycharm": {
     "name": "#%%\n"
    }
   }
  },
  {
   "cell_type": "markdown",
   "source": [
    "### scikit-learn 中的Precision-Recall曲线\n",
    "\n"
   ],
   "metadata": {
    "collapsed": false,
    "pycharm": {
     "name": "#%% md\n"
    }
   }
  },
  {
   "cell_type": "code",
   "execution_count": 35,
   "outputs": [],
   "source": [
    "from sklearn.metrics import precision_recall_curve\n",
    "\n",
    "precisions,recalls,thresholds = precision_recall_curve(y_test,decision_scores)"
   ],
   "metadata": {
    "collapsed": false,
    "pycharm": {
     "name": "#%%\n"
    }
   }
  },
  {
   "cell_type": "code",
   "execution_count": 36,
   "outputs": [
    {
     "data": {
      "text/plain": "(151,)"
     },
     "execution_count": 36,
     "metadata": {},
     "output_type": "execute_result"
    }
   ],
   "source": [
    "precisions.shape\n"
   ],
   "metadata": {
    "collapsed": false,
    "pycharm": {
     "name": "#%%\n"
    }
   }
  },
  {
   "cell_type": "code",
   "execution_count": 37,
   "outputs": [
    {
     "data": {
      "text/plain": "(151,)"
     },
     "execution_count": 37,
     "metadata": {},
     "output_type": "execute_result"
    }
   ],
   "source": [
    "recalls.shape\n"
   ],
   "metadata": {
    "collapsed": false,
    "pycharm": {
     "name": "#%%\n"
    }
   }
  },
  {
   "cell_type": "code",
   "execution_count": 38,
   "outputs": [
    {
     "data": {
      "text/plain": "(150,)"
     },
     "execution_count": 38,
     "metadata": {},
     "output_type": "execute_result"
    }
   ],
   "source": [
    "thresholds.shape\n"
   ],
   "metadata": {
    "collapsed": false,
    "pycharm": {
     "name": "#%%\n"
    }
   }
  },
  {
   "cell_type": "code",
   "execution_count": 40,
   "outputs": [
    {
     "data": {
      "text/plain": "[<matplotlib.lines.Line2D at 0x1c365ef7880>]"
     },
     "execution_count": 40,
     "metadata": {},
     "output_type": "execute_result"
    },
    {
     "data": {
      "text/plain": "<Figure size 432x288 with 1 Axes>",
      "image/png": "[encoded data removed]"
     },
     "metadata": {
      "needs_background": "light"
     },
     "output_type": "display_data"
    }
   ],
   "source": [
    "plt.plot(thresholds,precisions[:-1])\n",
    "plt.plot(thresholds,recalls[:-1])"
   ],
   "metadata": {
    "collapsed": false,
    "pycharm": {
     "name": "#%%\n"
    }
   }
  },
  {
   "cell_type": "code",
   "execution_count": 41,
   "outputs": [
    {
     "data": {
      "text/plain": "[<matplotlib.lines.Line2D at 0x1c36623ea60>]"
     },
     "execution_count": 41,
     "metadata": {},
     "output_type": "execute_result"
    },
    {
     "data": {
      "text/plain": "<Figure size 432x288 with 1 Axes>",
      "image/png": "[encoded data removed]"
     },
     "metadata": {
      "needs_background": "light"
     },
     "output_type": "display_data"
    }
   ],
   "source": [
    "plt.plot(precisions,recalls)\n"
   ],
   "metadata": {
    "collapsed": false,
    "pycharm": {
     "name": "#%%\n"
    }
   }
  },
  {
   "cell_type": "code",
   "execution_count": null,
   "outputs": [],
   "source": [],
   "metadata": {
    "collapsed": false,
    "pycharm": {
     "name": "#%%\n"
    }
   }
  }
 ],
 "metadata": {
  "kernelspec": {
   "display_name": "Python 3",
   "language": "python",
   "name": "python3"
  },
  "language_info": {
   "codemirror_mode": {
    "name": "ipython",
    "version": 2
   },
   "file_extension": ".py",
   "mimetype": "text/x-python",
   "name": "python",
   "nbconvert_exporter": "python",
   "pygments_lexer": "ipython2",
   "version": "2.7.6"
  }
 },
 "nbformat": 4,
 "nbformat_minor": 0
}