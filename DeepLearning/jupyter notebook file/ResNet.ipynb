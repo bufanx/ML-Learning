{
 "cells": [
  {
   "cell_type": "code",
   "execution_count": 1,
   "outputs": [
    {
     "name": "stdout",
     "output_type": "stream",
     "text": [
      "WARNING:tensorflow:From C:\\ProgramData\\Anaconda3\\envs\\zyc\\lib\\site-packages\\tensorflow\\python\\compat\\v2_compat.py:96: disable_resource_variables (from tensorflow.python.ops.variable_scope) is deprecated and will be removed in a future version.\n",
      "Instructions for updating:\n",
      "non-resource variables are not supported in the long term\n",
      "['batches.meta', 'data_batch_1', 'data_batch_2', 'data_batch_3', 'data_batch_4', 'data_batch_5', 'readme.html', 'test_batch']\n"
     ]
    }
   ],
   "source": [
    "import tensorflow.compat.v1 as tf\n",
    "\n",
    "tf.disable_v2_behavior()\n",
    "import os\n",
    "import pickle\n",
    "import numpy as np\n",
    "\n",
    "CIFAR_DIR = \"./cifar-10-batches-py\"\n",
    "print(os.listdir(CIFAR_DIR))"
   ],
   "metadata": {
    "collapsed": false,
    "pycharm": {
     "name": "#%%\n"
    }
   }
  },
  {
   "cell_type": "code",
   "execution_count": 2,
   "outputs": [
    {
     "name": "stdout",
     "output_type": "stream",
     "text": [
      "(50000, 3072)\n",
      "(50000,)\n",
      "(10000, 3072)\n",
      "(10000,)\n"
     ]
    }
   ],
   "source": [
    "def load_data(filename):\n",
    "    \"\"\"read data from data file.\"\"\"\n",
    "    with open(filename,'rb') as f:\n",
    "        data = pickle.load(f,encoding='iso-8859-1')\n",
    "        return data['data'],data['labels']\n",
    "\n",
    "#tensorflow.Dataset\n",
    "class CifarData:\n",
    "    def __init__(self,filenames,need_shuffle):\n",
    "        all_data = []\n",
    "        all_labels = []\n",
    "        for filename in filenames:\n",
    "            data,labels = load_data(filename)\n",
    "            all_data.append(data)\n",
    "            all_labels.append(labels)\n",
    "        self._data = np.vstack(all_data)\n",
    "        self._data = self._data / 127.5 - 1\n",
    "        self._labels = np.hstack(all_labels)\n",
    "        print(self._data.shape)\n",
    "        print(self._labels.shape)\n",
    "        self._num_examples = self._data.shape[0]\n",
    "        self._need_shuffle = need_shuffle\n",
    "        self._indicator = 0\n",
    "        if self._need_shuffle:\n",
    "            self._shuffle_data()\n",
    "    def _shuffle_data(self):\n",
    "        p = np.random.permutation(self._num_examples)\n",
    "        self._data = self._data[p]\n",
    "        self._labels = self._labels[p]\n",
    "\n",
    "    def next_batch(self,batch_size):\n",
    "        \"\"\":return batch_szie examples as a batch.\"\"\"\n",
    "        end_indicator = self._indicator + batch_size\n",
    "        if end_indicator > self._num_examples:\n",
    "            if self._need_shuffle:\n",
    "                self._shuffle_data()\n",
    "                self._indicator = 0\n",
    "                end_indicator = batch_size\n",
    "            else:\n",
    "                raise Exception(\"have no more examples\")\n",
    "        if end_indicator > self._num_examples:\n",
    "            raise Exception(\"batch size is larger than all examples\")\n",
    "        batch_data = self._data[self._indicator:end_indicator]\n",
    "        batch_labels = self._labels[self._indicator:end_indicator]\n",
    "        self._indicator = end_indicator\n",
    "        return batch_data,batch_labels\n",
    "\n",
    "train_filenames = [os.path.join(CIFAR_DIR, 'data_batch_%d' % i ) for i in range(1,6)]\n",
    "test_filenames = [os.path.join(CIFAR_DIR, 'test_batch')]\n",
    "\n",
    "train_data = CifarData(train_filenames,True)\n",
    "test_data = CifarData(test_filenames,True)"
   ],
   "metadata": {
    "collapsed": false,
    "pycharm": {
     "name": "#%%\n"
    }
   }
  },
  {
   "cell_type": "code",
   "execution_count": 11,
   "outputs": [
    {
     "name": "stdout",
     "output_type": "stream",
     "text": [
      "[]\n"
     ]
    }
   ],
   "source": [
    "def residual_block(X, output_channel):\n",
    "    \"\"\"residual connection implementation(残差连接块)\"\"\"\n",
    "    input_channel = X.get_shape().as_list()[-1]\n",
    "    if input_channel * 2 == output_channel:\n",
    "        increase_dim = True\n",
    "        strides = (2,2)\n",
    "    elif input_channel == output_channel:\n",
    "        increase_dim = False\n",
    "        strides = (1,1)\n",
    "    else:\n",
    "        raise Exception(\"input channel can't match output channel\")\n",
    "\n",
    "    conv1 = tf.layers.conv2d(X,\n",
    "                             output_channel,\n",
    "                             (3,3),\n",
    "                             strides = strides,\n",
    "                             padding = 'same',\n",
    "                             activation = tf.nn.relu,\n",
    "                             name = 'conv1')\n",
    "\n",
    "    conv2 = tf.layers.conv2d(conv1,\n",
    "                             output_channel,\n",
    "                             (3,3),\n",
    "                             strides = (1,1),\n",
    "                             padding = 'same',\n",
    "                             activation = tf.nn.relu,\n",
    "                             name = 'conv2')\n",
    "\n",
    "    if increase_dim:\n",
    "        # [None, image_width, image_height, channel] -> [,,,channel * 2]\n",
    "        pooled_X = tf.layers.average_pooling2d(X,\n",
    "                                     (2,2),\n",
    "                                     (2,2),\n",
    "                                     padding = 'valid')\n",
    "        padded_X = tf.pad(pooled_X,\n",
    "                          [[0,0],\n",
    "                          [0,0],\n",
    "                          [0,0],\n",
    "                          [input_channel // 2, input_channel // 2]])\n",
    "    else:\n",
    "        padded_X = X\n",
    "    output_X = conv2 + padded_X\n",
    "    return output_X\n",
    "\n",
    "def res_net(X,\n",
    "            num_residual_blocks,\n",
    "            num_filter_base,\n",
    "            class_num):\n",
    "    \"\"\"residual network implementation\"\"\"\n",
    "    \"\"\"\n",
    "    :param\n",
    "    -X:\n",
    "    -num_residual_blocks: 残差连接块数目:eg:[3,4,6,3]\n",
    "    -num_subsampling:降采样数目,与残差连接块数目相等,可以从上个参数获得\n",
    "    -num_filter_base:原始输出通道数\n",
    "    -class_num:多分类的类别数\n",
    "    \"\"\"\n",
    "    num_subsampling = len(num_residual_blocks)\n",
    "    layers = []\n",
    "    # X: [none,width,height,channel] -> [width,height,channel]\n",
    "    input_size = X.get_shape().as_list()[1:]\n",
    "    with tf.variable_scope('conv0'):\n",
    "        conv0 = tf.layers.conv2d(X,\n",
    "                                 num_filter_base,\n",
    "                                 (3,3),\n",
    "                                 strides = (1,1),\n",
    "                                 padding='same',\n",
    "                                 activation = tf.nn.relu,\n",
    "                                 name = 'conv0')\n",
    "        layers.append(conv0)\n",
    "    # num_subsampling = 4, sample_id = [0,1,2,3]\n",
    "    for sample_id in range(num_subsampling):\n",
    "        for i in range(num_residual_blocks[sample_id]):\n",
    "            with tf.variable_scope(\"conv%d_%d\" % (sample_id, i)):\n",
    "                conv = residual_block(\n",
    "                    layers[-1],\n",
    "                    num_filter_base * (2 ** sample_id))\n",
    "                layers.append(conv)\n",
    "\n",
    "    multiplier = 2 ** (num_subsampling - 1)\n",
    "    assert layers[-1].get_shape().as_list()[1:] \\\n",
    "        == [input_size[0] / multiplier,\n",
    "            input_size[1] / multiplier,\n",
    "            num_filter_base * multiplier]\n",
    "\n",
    "    with tf.variable_scope('fc'):\n",
    "        # layer[-1].shape: [None, width, height, channel]\n",
    "        # kernal_size: image_width, image_height 经过global_pooling后就变为一个值,就是他的均值\n",
    "        global_pool = tf.reduce_mean(layers[-1], [1,2])\n",
    "        logits = tf.layers.dense(global_pool, class_num)\n",
    "        layers.append(logits)\n",
    "        return layers[-1]\n",
    "\n",
    "\n",
    "X = tf.placeholder(tf.float32,[None,3072])\n",
    "y = tf.placeholder(tf.int64,[None])\n",
    "# [None], eg: [0,5,6,3]\n",
    "X_image = tf.reshape(X, [-1,3,32,32])\n",
    "# 32 * 32\n",
    "X_image = tf.transpose(X_image, perm = [0,2,3,1])\n",
    "\n",
    "# conv1: 神经元图, feature_map, 输出图像\n",
    "with tf.variable_scope(\"encoder\",reuse=tf.AUTO_REUSE) as scope:\n",
    "\n",
    "\n",
    "    y_ = res_net(X_image, [2,3,2], 32, 10)\n",
    "    loss = tf.losses.sparse_softmax_cross_entropy(labels=y, logits=y_)\n",
    "    # y_ -> softmax\n",
    "    # y -> one_hot\n",
    "    # loss = ylogy_\n",
    "\n",
    "    # indices\n",
    "    predict = tf.argmax(y_,1)\n",
    "    # [1,0,1,1,1,0,0,0]\n",
    "    correct_prediction = tf.equal(predict,y)\n",
    "    accuary = tf.reduce_mean(tf.cast(correct_prediction,tf.float64))\n",
    "\n",
    "    with tf.name_scope('train_op'):\n",
    "        # 反向传播\n",
    "        train_op = tf.train.AdamOptimizer(1e-3).minimize(loss)\n"
   ],
   "metadata": {
    "collapsed": false,
    "pycharm": {
     "name": "#%%\n"
    }
   }
  },
  {
   "cell_type": "code",
   "execution_count": 8,
   "outputs": [
    {
     "name": "stdout",
     "output_type": "stream",
     "text": [
      "[Train] Step :100, loss: 2.06986, acc: 0.20000\n",
      "[Train] Step :200, loss: 1.89311, acc: 0.30000\n",
      "[Train] Step :300, loss: 1.98209, acc: 0.30000\n",
      "[Train] Step :400, loss: 1.65589, acc: 0.35000\n",
      "[Train] Step :500, loss: 1.72418, acc: 0.35000\n",
      "[Train] Step :600, loss: 1.71867, acc: 0.35000\n",
      "[Train] Step :700, loss: 1.80920, acc: 0.45000\n",
      "[Train] Step :800, loss: 1.56955, acc: 0.30000\n",
      "[Train] Step :900, loss: 1.52584, acc: 0.40000\n",
      "[Train] Step :1000, loss: 1.63714, acc: 0.30000\n",
      "(10000, 3072)\n",
      "(10000,)\n",
      "[Test ] Step :1000, acc: 0.42000\n"
     ]
    }
   ],
   "source": [
    "init = tf.global_variables_initializer()\n",
    "batch_size = 20\n",
    "train_steps = 1000\n",
    "test_steps = 100\n",
    "with tf.Session() as sess:\n",
    "    sess.run(init)\n",
    "    for i in range(train_steps):\n",
    "        batch_data,batch_labels = train_data.next_batch(batch_size)\n",
    "        loss_val,accu_val ,_ =sess.run(\n",
    "            [loss,accuary,train_op],\n",
    "            feed_dict={\n",
    "                X:batch_data,\n",
    "                y:batch_labels})\n",
    "        if (i+1) % 100 == 0:\n",
    "            print('[Train] Step :%d, loss: %4.5f, acc: %4.5f'\\\n",
    "                  %(i+1,loss_val,accu_val))\n",
    "\n",
    "        if (i+1) % 1000 == 0:\n",
    "            test_data = CifarData(test_filenames, False)\n",
    "            all_test_acc_val = []\n",
    "            for j in range(test_steps):\n",
    "                test_batch_data ,test_batch_labels\\\n",
    "                    = test_data.next_batch(batch_size)\n",
    "                test_acc_val = sess.run(\n",
    "                    [accuary],\n",
    "                    feed_dict = {\n",
    "                        X: test_batch_data,\n",
    "                        y: test_batch_labels\n",
    "                    })\n",
    "                all_test_acc_val.append(test_acc_val)\n",
    "            test_acc = np.nanmean(all_test_acc_val)\n",
    "            print('[Test ] Step :%d, acc: %4.5f'\\\n",
    "                  %(i+1,test_acc))"
   ],
   "metadata": {
    "collapsed": false,
    "pycharm": {
     "name": "#%%\n"
    }
   }
  },
  {
   "cell_type": "code",
   "execution_count": null,
   "outputs": [],
   "source": [],
   "metadata": {
    "collapsed": false,
    "pycharm": {
     "name": "#%%\n"
    }
   }
  }
 ],
 "metadata": {
  "kernelspec": {
   "name": "pycharm-71e1ac8c",
   "language": "python",
   "display_name": "PyCharm (MachineLearning)"
  },
  "language_info": {
   "codemirror_mode": {
    "name": "ipython",
    "version": 2
   },
   "file_extension": ".py",
   "mimetype": "text/x-python",
   "name": "python",
   "nbconvert_exporter": "python",
   "pygments_lexer": "ipython2",
   "version": "2.7.6"
  }
 },
 "nbformat": 4,
 "nbformat_minor": 0
}