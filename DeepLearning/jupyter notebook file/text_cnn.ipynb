{
 "cells": [
  {
   "cell_type": "code",
   "execution_count": 30,
   "metadata": {
    "collapsed": true
   },
   "outputs": [],
   "source": [
    "# 构建计算图-LSTM\n",
    "#     embedding\n",
    "#     LSTM\n",
    "#     fc\n",
    "#     train_op\n",
    "# 训练流程代码\n",
    "# 数据集封装\n",
    "#     api: next_batch(batch_size)\n",
    "# 词表封装:\n",
    "#     api: sentenceToId(text_sentence):句子转换id\n",
    "# 类别封装:\n",
    "#     api: categoryToId(text_category)."
   ]
  },
  {
   "cell_type": "code",
   "execution_count": 31,
   "outputs": [],
   "source": [
    "import logging\n",
    "\n",
    "import tensorflow.compat.v1 as tf\n",
    "import os\n",
    "import sys\n",
    "import numpy as np\n",
    "import math\n",
    "\n",
    "tf.disable_v2_behavior()\n",
    "tf.logging.set_verbosity(tf.logging.INFO)"
   ],
   "metadata": {
    "collapsed": false,
    "pycharm": {
     "name": "#%%\n"
    }
   }
  },
  {
   "cell_type": "code",
   "execution_count": 32,
   "outputs": [],
   "source": [
    "class HParams:\n",
    "    def __init__(self,\n",
    "                 num_embedding_size,\n",
    "                 num_timesteps,\n",
    "                 num_fc_nodes,\n",
    "                 num_filters,\n",
    "                 num_kernel_size,\n",
    "                 batch_size,\n",
    "                 learning_rate,\n",
    "                 # 字符出现的阈值\n",
    "                 num_word_threshold):\n",
    "        self._num_embedding_size = num_embedding_size\n",
    "        self._num_timesteps = num_timesteps\n",
    "        self._num_fc_nodes = num_fc_nodes\n",
    "        self._num_filters = num_filters\n",
    "        self._num_kernel_size = num_kernel_size\n",
    "        self._batch_size = batch_size\n",
    "        self._learning_rate = learning_rate\n",
    "        # 字符出现的阈值\n",
    "        self._num_word_threshold = num_word_threshold\n",
    "\n",
    "    @property\n",
    "    def num_embedding_size(self):\n",
    "        return self._num_embedding_size\n",
    "    @property\n",
    "    def num_timesteps(self):\n",
    "        return self._num_timesteps\n",
    "    @property\n",
    "    def num_fc_nodes(self):\n",
    "        return self._num_fc_nodes\n",
    "    @property\n",
    "    def num_filters(self):\n",
    "        return self._num_filters\n",
    "    @property\n",
    "    def num_kernel_size(self):\n",
    "        return self._num_kernel_size\n",
    "    @property\n",
    "    def batch_size(self):\n",
    "        return self._batch_size\n",
    "    @property\n",
    "    def learning_rate(self):\n",
    "        return self._learning_rate\n",
    "    @property\n",
    "    def num_word_threshold(self):\n",
    "        return self._num_word_threshold"
   ],
   "metadata": {
    "collapsed": false,
    "pycharm": {
     "name": "#%%\n"
    }
   }
  },
  {
   "cell_type": "code",
   "execution_count": 33,
   "outputs": [],
   "source": [
    "hps = HParams(\n",
    "        num_embedding_size = 16,\n",
    "        num_timesteps = 50,\n",
    "        num_filters = 128,\n",
    "        num_kernel_size = 3,\n",
    "        num_fc_nodes = 32,\n",
    "        batch_size = 100,\n",
    "        learning_rate = 0.001,\n",
    "        # 字符出现次数最小值\n",
    "        num_word_threshold = 10)"
   ],
   "metadata": {
    "collapsed": false,
    "pycharm": {
     "name": "#%%\n"
    }
   }
  },
  {
   "cell_type": "code",
   "execution_count": 34,
   "outputs": [],
   "source": [
    "train_file = 'cnews_data/cnews.train.seg.txt'\n",
    "val_file = 'cnews_data/cnews.val.seg.txt'\n",
    "test_file = 'cnews_data/cnews.test.seg.txt'\n",
    "vocab_file = 'cnews_data/cnews.vocab.txt'\n",
    "category_file = 'cnews_data/cnews.category.txt'\n",
    "output_folder = 'cnews_data/run_text_rnn'\n",
    "\n",
    "if not os.path.exists(output_folder):\n",
    "    os.mkdir(output_folder)"
   ],
   "metadata": {
    "collapsed": false,
    "pycharm": {
     "name": "#%%\n"
    }
   }
  },
  {
   "cell_type": "code",
   "execution_count": 35,
   "outputs": [
    {
     "name": "stdout",
     "output_type": "stream",
     "text": [
      "INFO:tensorflow:vocab_size: 77331\n",
      "INFO:tensorflow:category_size: 10\n"
     ]
    }
   ],
   "source": [
    "class Vocab:\n",
    "    def __init__(self, filename, num_word_threshold):\n",
    "        self._word_to_id = {}\n",
    "        self._unk = -1\n",
    "        self._num_word_threshold = num_word_threshold\n",
    "        self._read_dict(filename)\n",
    "\n",
    "    def _read_dict(self, filename):\n",
    "        with open(filename, 'r', encoding = 'utf-8') as f:\n",
    "            lines = f.readlines()\n",
    "        for line in lines:\n",
    "            word, frequency = line.strip('\\r\\n').split('\\t')\n",
    "            frequency = int(frequency)\n",
    "            if frequency < self._num_word_threshold:\n",
    "                continue\n",
    "            idx = len(self._word_to_id)\n",
    "            if word == '<UNK>':\n",
    "                self._unk = idx\n",
    "            self._word_to_id[word] = idx\n",
    "\n",
    "    def word_to_id(self, word):\n",
    "        return self._word_to_id.get(word, self._unk)\n",
    "\n",
    "    @property\n",
    "    def unk(self):\n",
    "        return self._unk\n",
    "\n",
    "    def size(self):\n",
    "        return len(self._word_to_id)\n",
    "\n",
    "    def sentence_to_id(self, sentence):\n",
    "        word_ids = [self.word_to_id(cur_word) for cur_word in sentence.split()]\n",
    "        return word_ids\n",
    "\n",
    "class CategoryDict:\n",
    "    def __init__(self, file_name):\n",
    "        self._category_to_id = {}\n",
    "        with open(file_name, 'r', encoding = 'utf-8') as f:\n",
    "            lines = f.readlines()\n",
    "        for line in lines:\n",
    "            category = line.strip('\\r\\n')\n",
    "            idx = len(self._category_to_id)\n",
    "            self._category_to_id[category] = idx\n",
    "\n",
    "    def size(self):\n",
    "        return len(self._category_to_id)\n",
    "    def category_to_id(self, category):\n",
    "        if not category in self._category_to_id:\n",
    "            raise Exception(\"%s is not in our category list\" % category)\n",
    "        return self._category_to_id[category]\n",
    "\n",
    "vocab = Vocab(vocab_file, hps.num_word_threshold)\n",
    "vocab_size = vocab.size()\n",
    "tf.logging.info('vocab_size: %d' % vocab_size)\n",
    "category_vocab = CategoryDict(category_file)\n",
    "num_classes = category_vocab.size()\n",
    "tf.logging.info('category_size: %d' % num_classes)"
   ],
   "metadata": {
    "collapsed": false,
    "pycharm": {
     "name": "#%%\n"
    }
   }
  },
  {
   "cell_type": "code",
   "execution_count": 36,
   "outputs": [],
   "source": [
    "class TextDataSet:\n",
    "    def __init__(self, filename, vocab, category_vocab, num_timesteps):\n",
    "        self._vocab = vocab\n",
    "        self._category_vocab = category_vocab\n",
    "        self._num_timesteps = num_timesteps\n",
    "        # matrix\n",
    "        self._inputs = []\n",
    "        # vector\n",
    "        self._outputs = []\n",
    "        self._indicator = 0\n",
    "        self._parse_file(filename)\n",
    "\n",
    "    def _parse_file(self,filename):\n",
    "        tf.logging.info(\"Loading data from %s\", filename)\n",
    "        with open(filename, 'r', encoding = 'utf-8') as f:\n",
    "            lines = f.readlines()\n",
    "        for line in lines:\n",
    "            label, content = line.strip('\\r\\n').split('\\t')\n",
    "            id_label = self._category_vocab.category_to_id(label)\n",
    "            id_words = self._vocab.sentence_to_id(content)\n",
    "            id_words = id_words[0:self._num_timesteps]\n",
    "            padding_num = self._num_timesteps - len(id_words)\n",
    "            id_words = id_words + \\\n",
    "                       [self._vocab.unk for i in range(padding_num)]\n",
    "            self._inputs.append(id_words)\n",
    "            self._outputs.append(id_label)\n",
    "        self._inputs = np.asarray(self._inputs, dtype = np.int32)\n",
    "        self._outputs = np.asarray(self._outputs, dtype = np.int32)\n",
    "        self._random_shuffle()\n",
    "        self._num_examples = len(self._inputs)\n",
    "\n",
    "    def _random_shuffle(self):\n",
    "        p = np.random.permutation(len(self._inputs))\n",
    "        self._inputs = self._inputs[p]\n",
    "        self._outputs = self._outputs[p]\n",
    "\n",
    "    def num_examples(self):\n",
    "        return self._num_examples\n",
    "\n",
    "    def next_batch(self, batch_size):\n",
    "        end_indicator = self._indicator + batch_size\n",
    "        if end_indicator > len(self._inputs):\n",
    "            self._random_shuffle()\n",
    "            self._indicator = 0\n",
    "            end_indicator = batch_size\n",
    "        if end_indicator > len(self._inputs):\n",
    "            raise Exception(\"batch_size: %d is too large\" % batch_size)\n",
    "\n",
    "        batch_inputs = self._inputs[self._indicator: end_indicator]\n",
    "        batch_outputs = self._outputs[self._indicator: end_indicator]\n",
    "        self._indicator = end_indicator\n",
    "        return batch_inputs, batch_outputs\n"
   ],
   "metadata": {
    "collapsed": false,
    "pycharm": {
     "name": "#%%\n"
    }
   }
  },
  {
   "cell_type": "code",
   "execution_count": 37,
   "outputs": [
    {
     "name": "stdout",
     "output_type": "stream",
     "text": [
      "INFO:tensorflow:Loading data from cnews_data/cnews.train.seg.txt\n",
      "INFO:tensorflow:Loading data from cnews_data/cnews.val.seg.txt\n",
      "INFO:tensorflow:Loading data from cnews_data/cnews.test.seg.txt\n",
      "(array([[  467,    11,  5167, ...,     0,     0,     0],\n",
      "       [ 9107,    15, 40185, ...,     0,     0,     0]]), array([8, 1]))\n",
      "(array([[1399,   15, 6420, ...,    0,    0,    0],\n",
      "       [ 388,   27,    0, ...,    0,    0,    0]]), array([7, 4]))\n",
      "(array([[  467,    11, 11064, ...,     0,     0,     0],\n",
      "       [34507, 17425, 10653, ...,     0,     0,     0]]), array([5, 8]))\n"
     ]
    }
   ],
   "source": [
    "train_dataset = TextDataSet(\n",
    "    train_file, vocab, category_vocab, hps.num_timesteps\n",
    ")\n",
    "val_dataset = TextDataSet(\n",
    "    val_file, vocab, category_vocab, hps.num_timesteps\n",
    ")\n",
    "test_dataset = TextDataSet(\n",
    "    test_file, vocab, category_vocab, hps.num_timesteps\n",
    ")\n",
    "print(train_dataset.next_batch(2))\n",
    "print(val_dataset.next_batch(2))\n",
    "print(test_dataset.next_batch(2))"
   ],
   "metadata": {
    "collapsed": false,
    "pycharm": {
     "name": "#%%\n"
    }
   }
  },
  {
   "cell_type": "code",
   "execution_count": 38,
   "outputs": [],
   "source": [
    "def create_model(hps, vocab_size, num_classes):\n",
    "    num_timesteps = hps.num_timesteps\n",
    "    batch_size = hps.batch_size\n",
    "\n",
    "    inputs = tf.placeholder(tf.int32, (batch_size, num_timesteps))\n",
    "    outputs = tf.placeholder(tf.int32, (batch_size, ))\n",
    "    # dropout 保存下来的值\n",
    "    keep_prob = tf.placeholder(tf.float32, name = 'keep_prob')\n",
    "    # 保存模型训练到哪一步\n",
    "\n",
    "    global_step = tf.Variable(\n",
    "        tf.zeros([], tf.int64), name = 'global_step', trainable = False\n",
    "    )\n",
    "    # 随机的均匀分布中初始化\n",
    "    embedding_initializer = tf.random_uniform_initializer(-1.0, 1.0)\n",
    "    with tf.variable_scope('embedding', initializer = embedding_initializer):\n",
    "         embeddings = tf.get_variable(\n",
    "             'embeddinggg',\n",
    "             [vocab_size, hps.num_embedding_size],\n",
    "             tf.float32\n",
    "         )\n",
    "         # 对应inputs & embeddings 拼接成矩阵\n",
    "         # [1, 10, 7] -> [embeddings[1], embeddings[10], embeddings[7]]\n",
    "         embed_inputs = tf.nn.embedding_lookup(embeddings, inputs)\n",
    "\n",
    "    \"\"\"\n",
    "    scale = 1.0 / math.sqrt(hps.num_embedding_size + hps.num_lstm_nodes[-1]) / 3.0\n",
    "    lstm_init = tf.random_uniform_initializer(-scale, scale)\n",
    "    with tf.variable_scope('lstm_nn', initializer = lstm_init):\n",
    "        cells = []\n",
    "        for i in range(hps.num_lstm_layers):\n",
    "            cell = tf.nn.rnn_cell.BasicLSTMCell(\n",
    "                hps.num_lstm_nodes[i],\n",
    "                state_is_tuple = True\n",
    "            )\n",
    "            cell = tf.nn.rnn_cell.DropoutWrapper(\n",
    "                cell,\n",
    "                output_keep_prob = keep_prob\n",
    "            )\n",
    "            cells.append(cell)\n",
    "        cell = tf.nn.rnn_cell.MultiRNNCell(cells)\n",
    "\n",
    "        initial_state = cell.zero_state(batch_size, tf.float32)\n",
    "        #rnn_outputs: [batch_size, num_timesteps, lstm_outputs[-1]]\n",
    "        rnn_outputs, _ = tf.nn.dynamic_rnn(\n",
    "            cell,embed_inputs,initial_state = initial_state)\n",
    "        last = rnn_outputs[:,-1,:]\n",
    "    \"\"\"\n",
    "    scale = 1.0 / math.sqrt(hps.num_embedding_size + hps.num_filters) / 3.0\n",
    "    cnn_init = tf.random_uniform_initializer(-scale, scale)\n",
    "    with tf.variable_scope('cnn', initializer = cnn_init):\n",
    "        # embed_inputs: [batch_size, timesteps, embed_size]\n",
    "        # conv1d: [batch_size, timesteps, num_filters]\n",
    "        conv1d = tf.layers.conv1d(\n",
    "            embed_inputs,\n",
    "            hps.num_filters,\n",
    "            hps.num_kernel_size,\n",
    "            activation = tf.nn.relu,\n",
    "        )\n",
    "        global_maxpooling = tf.reduce_max(conv1d, axis = [1])\n",
    "    fc_init = tf.uniform_unit_scaling_initializer(factor = 1.0)\n",
    "    with tf.variable_scope('fc', initializer = fc_init):\n",
    "        fc1 = tf.layers.dense(global_maxpooling,\n",
    "                              hps.num_fc_nodes,\n",
    "                              activation = tf.nn.relu,\n",
    "                              name = 'fc1')\n",
    "        fc1_dropout = tf.layers.dropout(fc1, keep_prob)\n",
    "        # 映射到类别\n",
    "        logits = tf.layers.dense(fc1_dropout, num_classes, name = 'fc2')\n",
    "\n",
    "    with tf.name_scope('metrics'):\n",
    "        softmax_loss = tf.nn.sparse_softmax_cross_entropy_with_logits(\n",
    "            logits = logits, labels = outputs\n",
    "        )\n",
    "        loss = tf.reduce_mean(softmax_loss)\n",
    "        # [0,2,5,4,2] -> argmax: 2 在2的维度上最大\n",
    "        y_pred = tf.argmax(tf.nn.softmax(logits),\n",
    "                           1,\n",
    "                           output_type = tf.int32)\n",
    "        correct_pred = tf.equal(outputs, y_pred)\n",
    "        accuracy = tf.reduce_mean(tf.cast(correct_pred, tf.float32))\n",
    "\n",
    "    with tf.name_scope('train_op'):\n",
    "        \"\"\"\n",
    "        tvars = tf.trainable_variables()\n",
    "        for var in tvars:\n",
    "            tf.logging.info('variable name %s' % var.name)\n",
    "        # 限制梯度大小\n",
    "        grads, _ = tf.clip_by_global_norm(tf.gradients(loss, tvars), hps.clip_lstm_grads)\n",
    "        optimizer = tf.train.AdamOptimizer(hps.learning_rate)\n",
    "        train_op = optimizer.apply_gradients(zip(grads, tvars),\n",
    "                                             global_step = global_step)\n",
    "        \"\"\"\n",
    "        train_op = tf.train.AdamOptimizer(hps.learning_rate).minimize(\n",
    "            loss, global_step = global_step\n",
    "        )\n",
    "\n",
    "        return ((inputs, outputs, keep_prob),\n",
    "                (loss, accuracy),\n",
    "                (train_op, global_step))\n"
   ],
   "metadata": {
    "collapsed": false,
    "pycharm": {
     "name": "#%%\n"
    }
   }
  },
  {
   "cell_type": "code",
   "execution_count": 39,
   "outputs": [],
   "source": [
    "tf.reset_default_graph()\n",
    "placeholders, metrics, others = create_model(\n",
    "    hps, vocab_size, num_classes)\n",
    "\n",
    "inputs, outputs, keep_prob = placeholders\n",
    "loss, accuracy = metrics\n",
    "train_op, global_step = others"
   ],
   "metadata": {
    "collapsed": false,
    "pycharm": {
     "name": "#%%\n"
    }
   }
  },
  {
   "cell_type": "code",
   "execution_count": 40,
   "outputs": [],
   "source": [
    "def eval_holdout(sess, accuracy, dataset_for_test, batch_size):\n",
    "    num_batches = dataset_for_test.num_examples() // batch_size\n",
    "    tf.logging.info(\"Eval holdout: num_examples = %d, batch_size = %d\",\n",
    "                    dataset_for_test.num_examples(), batch_size)\n",
    "    accuracy_vals = []\n",
    "    for i in range(num_batches):\n",
    "        batch_inputs, batch_labels = dataset_for_test.next_batch(batch_size)\n",
    "        accuracy_val = sess.run(accuracy,\n",
    "                                feed_dict = {\n",
    "                                    inputs: batch_inputs,\n",
    "                                    outputs: batch_labels,\n",
    "                                    keep_prob: 1.0,\n",
    "                                })\n",
    "        accuracy_vals.append(accuracy_val)\n",
    "    return np.mean(accuracy_vals)"
   ],
   "metadata": {
    "collapsed": false,
    "pycharm": {
     "name": "#%%\n"
    }
   }
  },
  {
   "cell_type": "code",
   "execution_count": 41,
   "outputs": [
    {
     "name": "stdout",
     "output_type": "stream",
     "text": [
      "INFO:tensorflow:Step:   200, loss: 0.594, accuracy: 0.820\n",
      "INFO:tensorflow:Step:   400, loss: 0.492, accuracy: 0.820\n",
      "INFO:tensorflow:Step:   600, loss: 0.284, accuracy: 0.920\n",
      "INFO:tensorflow:Step:   800, loss: 0.266, accuracy: 0.920\n",
      "INFO:tensorflow:Step:  1000, loss: 0.220, accuracy: 0.910\n",
      "INFO:tensorflow:Eval holdout: num_examples = 5000, batch_size = 100\n",
      "INFO:tensorflow:Eval holdout: num_examples = 10000, batch_size = 100\n",
      "INFO:tensorflow:Step:  1000, val_accuracy: 0.870, test_accuracy: 0.890\n",
      "INFO:tensorflow:Step:  1200, loss: 0.182, accuracy: 0.930\n",
      "INFO:tensorflow:Step:  1400, loss: 0.105, accuracy: 0.980\n",
      "INFO:tensorflow:Step:  1600, loss: 0.079, accuracy: 0.960\n",
      "INFO:tensorflow:Step:  1800, loss: 0.112, accuracy: 0.950\n",
      "INFO:tensorflow:Step:  2000, loss: 0.027, accuracy: 0.990\n",
      "INFO:tensorflow:Eval holdout: num_examples = 5000, batch_size = 100\n",
      "INFO:tensorflow:Eval holdout: num_examples = 10000, batch_size = 100\n",
      "INFO:tensorflow:Step:  2000, val_accuracy: 0.914, test_accuracy: 0.932\n",
      "INFO:tensorflow:Step:  2200, loss: 0.089, accuracy: 0.970\n",
      "INFO:tensorflow:Step:  2400, loss: 0.031, accuracy: 1.000\n",
      "INFO:tensorflow:Step:  2600, loss: 0.100, accuracy: 0.990\n",
      "INFO:tensorflow:Step:  2800, loss: 0.038, accuracy: 0.980\n",
      "INFO:tensorflow:Step:  3000, loss: 0.005, accuracy: 1.000\n",
      "INFO:tensorflow:Eval holdout: num_examples = 5000, batch_size = 100\n",
      "INFO:tensorflow:Eval holdout: num_examples = 10000, batch_size = 100\n",
      "INFO:tensorflow:Step:  3000, val_accuracy: 0.922, test_accuracy: 0.941\n",
      "INFO:tensorflow:Step:  3200, loss: 0.038, accuracy: 0.990\n",
      "INFO:tensorflow:Step:  3400, loss: 0.014, accuracy: 1.000\n",
      "INFO:tensorflow:Step:  3600, loss: 0.006, accuracy: 1.000\n",
      "INFO:tensorflow:Step:  3800, loss: 0.009, accuracy: 1.000\n",
      "INFO:tensorflow:Step:  4000, loss: 0.002, accuracy: 1.000\n",
      "INFO:tensorflow:Eval holdout: num_examples = 5000, batch_size = 100\n",
      "INFO:tensorflow:Eval holdout: num_examples = 10000, batch_size = 100\n",
      "INFO:tensorflow:Step:  4000, val_accuracy: 0.923, test_accuracy: 0.944\n",
      "INFO:tensorflow:Step:  4200, loss: 0.005, accuracy: 1.000\n",
      "INFO:tensorflow:Step:  4400, loss: 0.005, accuracy: 1.000\n",
      "INFO:tensorflow:Step:  4600, loss: 0.002, accuracy: 1.000\n",
      "INFO:tensorflow:Step:  4800, loss: 0.001, accuracy: 1.000\n",
      "INFO:tensorflow:Step:  5000, loss: 0.001, accuracy: 1.000\n",
      "INFO:tensorflow:Eval holdout: num_examples = 5000, batch_size = 100\n",
      "INFO:tensorflow:Eval holdout: num_examples = 10000, batch_size = 100\n",
      "INFO:tensorflow:Step:  5000, val_accuracy: 0.927, test_accuracy: 0.944\n",
      "INFO:tensorflow:Step:  5200, loss: 0.003, accuracy: 1.000\n",
      "INFO:tensorflow:Step:  5400, loss: 0.038, accuracy: 0.990\n",
      "INFO:tensorflow:Step:  5600, loss: 0.001, accuracy: 1.000\n",
      "INFO:tensorflow:Step:  5800, loss: 0.002, accuracy: 1.000\n",
      "INFO:tensorflow:Step:  6000, loss: 0.002, accuracy: 1.000\n",
      "INFO:tensorflow:Eval holdout: num_examples = 5000, batch_size = 100\n",
      "INFO:tensorflow:Eval holdout: num_examples = 10000, batch_size = 100\n",
      "INFO:tensorflow:Step:  6000, val_accuracy: 0.928, test_accuracy: 0.945\n",
      "INFO:tensorflow:Step:  6200, loss: 0.001, accuracy: 1.000\n",
      "INFO:tensorflow:Step:  6400, loss: 0.001, accuracy: 1.000\n",
      "INFO:tensorflow:Step:  6600, loss: 0.001, accuracy: 1.000\n",
      "INFO:tensorflow:Step:  6800, loss: 0.001, accuracy: 1.000\n",
      "INFO:tensorflow:Step:  7000, loss: 0.009, accuracy: 0.990\n",
      "INFO:tensorflow:Eval holdout: num_examples = 5000, batch_size = 100\n",
      "INFO:tensorflow:Eval holdout: num_examples = 10000, batch_size = 100\n",
      "INFO:tensorflow:Step:  7000, val_accuracy: 0.916, test_accuracy: 0.938\n",
      "INFO:tensorflow:Step:  7200, loss: 0.001, accuracy: 1.000\n",
      "INFO:tensorflow:Step:  7400, loss: 0.001, accuracy: 1.000\n",
      "INFO:tensorflow:Step:  7600, loss: 0.001, accuracy: 1.000\n",
      "INFO:tensorflow:Step:  7800, loss: 0.003, accuracy: 1.000\n",
      "INFO:tensorflow:Step:  8000, loss: 0.005, accuracy: 1.000\n",
      "INFO:tensorflow:Eval holdout: num_examples = 5000, batch_size = 100\n",
      "INFO:tensorflow:Eval holdout: num_examples = 10000, batch_size = 100\n",
      "INFO:tensorflow:Step:  8000, val_accuracy: 0.900, test_accuracy: 0.932\n",
      "INFO:tensorflow:Step:  8200, loss: 0.000, accuracy: 1.000\n",
      "INFO:tensorflow:Step:  8400, loss: 0.000, accuracy: 1.000\n",
      "INFO:tensorflow:Step:  8600, loss: 0.000, accuracy: 1.000\n",
      "INFO:tensorflow:Step:  8800, loss: 0.000, accuracy: 1.000\n",
      "INFO:tensorflow:Step:  9000, loss: 0.000, accuracy: 1.000\n",
      "INFO:tensorflow:Eval holdout: num_examples = 5000, batch_size = 100\n",
      "INFO:tensorflow:Eval holdout: num_examples = 10000, batch_size = 100\n",
      "INFO:tensorflow:Step:  9000, val_accuracy: 0.920, test_accuracy: 0.943\n",
      "INFO:tensorflow:Step:  9200, loss: 0.000, accuracy: 1.000\n",
      "INFO:tensorflow:Step:  9400, loss: 0.000, accuracy: 1.000\n",
      "INFO:tensorflow:Step:  9600, loss: 0.000, accuracy: 1.000\n",
      "INFO:tensorflow:Step:  9800, loss: 0.000, accuracy: 1.000\n",
      "INFO:tensorflow:Step: 10000, loss: 0.000, accuracy: 1.000\n",
      "INFO:tensorflow:Eval holdout: num_examples = 5000, batch_size = 100\n",
      "INFO:tensorflow:Eval holdout: num_examples = 10000, batch_size = 100\n",
      "INFO:tensorflow:Step: 10000, val_accuracy: 0.921, test_accuracy: 0.940\n"
     ]
    }
   ],
   "source": [
    "init_op = tf.global_variables_initializer()\n",
    "train_keep_prob_value = 0.8\n",
    "test_keeo_prob_value = 1.0\n",
    "\n",
    "num_train_steps = 10000\n",
    "\n",
    "with tf.Session() as sess:\n",
    "    sess.run(init_op)\n",
    "    for i in range(num_train_steps):\n",
    "        batch_inputs,batch_labels = train_dataset.next_batch(hps.batch_size)\n",
    "        outputs_val = sess.run([loss, accuracy,train_op, global_step],\n",
    "                           feed_dict = {\n",
    "                               inputs: batch_inputs,\n",
    "                               outputs: batch_labels,\n",
    "                               keep_prob: train_keep_prob_value\n",
    "                           })\n",
    "        loss_val, accuracy_val, _,global_step_val = outputs_val\n",
    "        if global_step_val % 200 == 0:\n",
    "            tf.logging.info(\"Step: %5d, loss: %3.3f, accuracy: %3.3f\"\n",
    "                            % (global_step_val, loss_val, accuracy_val))\n",
    "        if global_step_val % 1000 == 0:\n",
    "            accuracy_eval = eval_holdout(sess, accuracy, val_dataset, hps.batch_size)\n",
    "            accuracy_test = eval_holdout(sess, accuracy, test_dataset, hps.batch_size)\n",
    "            tf.logging.info(\"Step: %5d, val_accuracy: %3.3f, test_accuracy: %3.3f\"\n",
    "                            % (global_step_val, accuracy_eval, accuracy_test))\n"
   ],
   "metadata": {
    "collapsed": false,
    "pycharm": {
     "name": "#%%\n"
    }
   }
  },
  {
   "cell_type": "code",
   "execution_count": null,
   "outputs": [],
   "source": [],
   "metadata": {
    "collapsed": false,
    "pycharm": {
     "name": "#%%\n"
    }
   }
  }
 ],
 "metadata": {
  "kernelspec": {
   "name": "pycharm-71e1ac8c",
   "language": "python",
   "display_name": "PyCharm (MachineLearning)"
  },
  "language_info": {
   "codemirror_mode": {
    "name": "ipython",
    "version": 2
   },
   "file_extension": ".py",
   "mimetype": "text/x-python",
   "name": "python",
   "nbconvert_exporter": "python",
   "pygments_lexer": "ipython2",
   "version": "2.7.6"
  }
 },
 "nbformat": 4,
 "nbformat_minor": 0
}