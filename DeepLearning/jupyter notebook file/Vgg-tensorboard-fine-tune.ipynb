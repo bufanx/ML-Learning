{
 "cells": [
  {
   "cell_type": "code",
   "execution_count": 1,
   "metadata": {
    "collapsed": true
   },
   "outputs": [
    {
     "name": "stdout",
     "output_type": "stream",
     "text": [
      "WARNING:tensorflow:From C:\\ProgramData\\Anaconda3\\envs\\zyc\\lib\\site-packages\\tensorflow\\python\\compat\\v2_compat.py:96: disable_resource_variables (from tensorflow.python.ops.variable_scope) is deprecated and will be removed in a future version.\n",
      "Instructions for updating:\n",
      "non-resource variables are not supported in the long term\n",
      "['batches.meta', 'data_batch_1', 'data_batch_2', 'data_batch_3', 'data_batch_4', 'data_batch_5', 'readme.html', 'test_batch']\n"
     ]
    }
   ],
   "source": [
    "import tensorflow.compat.v1 as tf\n",
    "\n",
    "tf.disable_v2_behavior()\n",
    "import os\n",
    "import pickle\n",
    "import numpy as np\n",
    "\n",
    "CIFAR_DIR = \"./cifar-10-batches-py\"\n",
    "print(os.listdir(CIFAR_DIR))"
   ]
  },
  {
   "cell_type": "markdown",
   "source": [
    "## tensorboard\n",
    "### 1.指定面板图上显示的变量\n",
    "### 2.训练过程中将这些变量计算出来,输出到文件中\n",
    "### 3.文件解析 ./tensorboard --logdir=dir.\n",
    "\n",
    "## fine-tune\n",
    "### 1.save models(第三方/myself)\n",
    "### 2.restore models checkpoint(断点恢复)\n",
    "### 3.keep some layers fixed."
   ],
   "metadata": {
    "collapsed": false,
    "pycharm": {
     "name": "#%% md\n"
    }
   }
  },
  {
   "cell_type": "code",
   "execution_count": 2,
   "outputs": [
    {
     "name": "stdout",
     "output_type": "stream",
     "text": [
      "(50000, 3072)\n",
      "(50000,)\n",
      "(10000, 3072)\n",
      "(10000,)\n"
     ]
    }
   ],
   "source": [
    "def load_data(filename):\n",
    "    \"\"\"read data from data file.\"\"\"\n",
    "    with open(filename,'rb') as f:\n",
    "        data = pickle.load(f,encoding='iso-8859-1')\n",
    "        return data['data'],data['labels']\n",
    "\n",
    "#tensorflow.Dataset\n",
    "class CifarData:\n",
    "    def __init__(self,filenames,need_shuffle):\n",
    "        all_data = []\n",
    "        all_labels = []\n",
    "        for filename in filenames:\n",
    "            data,labels = load_data(filename)\n",
    "            all_data.append(data)\n",
    "            all_labels.append(labels)\n",
    "        self._data = np.vstack(all_data)\n",
    "        self._data = self._data / 127.5 - 1\n",
    "        self._labels = np.hstack(all_labels)\n",
    "        print(self._data.shape)\n",
    "        print(self._labels.shape)\n",
    "        self._num_examples = self._data.shape[0]\n",
    "        self._need_shuffle = need_shuffle\n",
    "        self._indicator = 0\n",
    "        if self._need_shuffle:\n",
    "            self._shuffle_data()\n",
    "    def _shuffle_data(self):\n",
    "        p = np.random.permutation(self._num_examples)\n",
    "        self._data = self._data[p]\n",
    "        self._labels = self._labels[p]\n",
    "\n",
    "    def next_batch(self,batch_size):\n",
    "        \"\"\":return batch_szie examples as a batch.\"\"\"\n",
    "        end_indicator = self._indicator + batch_size\n",
    "        if end_indicator > self._num_examples:\n",
    "            if self._need_shuffle:\n",
    "                self._shuffle_data()\n",
    "                self._indicator = 0\n",
    "                end_indicator = batch_size\n",
    "            else:\n",
    "                raise Exception(\"have no more examples\")\n",
    "        if end_indicator > self._num_examples:\n",
    "            raise Exception(\"batch size is larger than all examples\")\n",
    "        batch_data = self._data[self._indicator:end_indicator]\n",
    "        batch_labels = self._labels[self._indicator:end_indicator]\n",
    "        self._indicator = end_indicator\n",
    "        return batch_data,batch_labels\n",
    "\n",
    "train_filenames = [os.path.join(CIFAR_DIR, 'data_batch_%d' % i ) for i in range(1,6)]\n",
    "test_filenames = [os.path.join(CIFAR_DIR, 'test_batch')]\n",
    "\n",
    "train_data = CifarData(train_filenames,True)\n",
    "test_data = CifarData(test_filenames,True)"
   ],
   "metadata": {
    "collapsed": false,
    "pycharm": {
     "name": "#%%\n"
    }
   }
  },
  {
   "cell_type": "code",
   "execution_count": 3,
   "outputs": [
    {
     "name": "stdout",
     "output_type": "stream",
     "text": [
      "WARNING:tensorflow:From <ipython-input-3-3c9cb8a308e3>:10: conv2d (from tensorflow.python.keras.legacy_tf_layers.convolutional) is deprecated and will be removed in a future version.\n",
      "Instructions for updating:\n",
      "Use `tf.keras.layers.Conv2D` instead.\n",
      "WARNING:tensorflow:From C:\\ProgramData\\Anaconda3\\envs\\zyc\\lib\\site-packages\\tensorflow\\python\\keras\\legacy_tf_layers\\convolutional.py:424: Layer.apply (from tensorflow.python.keras.engine.base_layer_v1) is deprecated and will be removed in a future version.\n",
      "Instructions for updating:\n",
      "Please use `layer.__call__` method instead.\n",
      "WARNING:tensorflow:From <ipython-input-3-3c9cb8a308e3>:27: max_pooling2d (from tensorflow.python.keras.legacy_tf_layers.pooling) is deprecated and will be removed in a future version.\n",
      "Instructions for updating:\n",
      "Use keras.layers.MaxPooling2D instead.\n",
      "WARNING:tensorflow:From <ipython-input-3-3c9cb8a308e3>:71: flatten (from tensorflow.python.keras.legacy_tf_layers.core) is deprecated and will be removed in a future version.\n",
      "Instructions for updating:\n",
      "Use keras.layers.Flatten instead.\n",
      "WARNING:tensorflow:From <ipython-input-3-3c9cb8a308e3>:73: dense (from tensorflow.python.keras.legacy_tf_layers.core) is deprecated and will be removed in a future version.\n",
      "Instructions for updating:\n",
      "Use keras.layers.Dense instead.\n"
     ]
    }
   ],
   "source": [
    "X = tf.placeholder(tf.float32,[None,3072])\n",
    "y = tf.placeholder(tf.int64,[None])\n",
    "# [None], eg: [0,5,6,3]\n",
    "X_image = tf.reshape(X, [-1,3,32,32])\n",
    "# 32 * 32\n",
    "X_image = tf.transpose(X_image, perm = [0,2,3,1])\n",
    "\n",
    "# conv1: 神经元图, feature_map, 输出图像\n",
    "with tf.variable_scope(\"encoder\",reuse=tf.AUTO_REUSE) as scope:\n",
    "    # trainable 设成False则不可以训练\n",
    "    conv1_1 = tf.layers.conv2d(X_image,\n",
    "                         32,# output channel number\n",
    "                         (3,3),# kernel size\n",
    "                         padding = 'same',\n",
    "                         activation = tf.nn.relu,\n",
    "                         reuse=tf.AUTO_REUSE,\n",
    "                         trainable = False,\n",
    "                         name = 'conv1_1')\n",
    "\n",
    "    conv1_2 = tf.layers.conv2d(conv1_1,\n",
    "                         32,# output channel number\n",
    "                         (3,3),# kernel size\n",
    "                         padding = 'same',\n",
    "                         activation = tf.nn.relu,\n",
    "                         reuse=tf.AUTO_REUSE,\n",
    "                         trainable = False,\n",
    "                         name = 'conv1_2')\n",
    "\n",
    "    # 16 * 16\n",
    "    pooling1 = tf.layers.max_pooling2d(conv1_2,\n",
    "                                   (2,2), # kernel size\n",
    "                                   (2,2), #stride\n",
    "                                   name = 'pool1')\n",
    "\n",
    "    conv2_1 = tf.layers.conv2d(pooling1,\n",
    "                         32,# output channel number\n",
    "                         (3,3),# kernel size\n",
    "                         padding = 'same',\n",
    "                         activation = tf.nn.relu,\n",
    "                         trainable = False,\n",
    "                         name = 'conv2_1')\n",
    "\n",
    "    conv2_2 = tf.layers.conv2d(conv2_1,\n",
    "                         32,# output channel number\n",
    "                         (3,3),# kernel size\n",
    "                         padding = 'same',\n",
    "                         activation = tf.nn.relu,\n",
    "                         trainable = False,\n",
    "                         name = 'conv2_2')\n",
    "    # 8 * 8\n",
    "    pooling2 = tf.layers.max_pooling2d(conv2_2,\n",
    "                                   (2,2), # kernel size\n",
    "                                   (2,2), #stride\n",
    "                                   name = 'pool2')\n",
    "\n",
    "    conv3_1 = tf.layers.conv2d(pooling2,\n",
    "                         32,# output channel number\n",
    "                         (3,3),# kernel size\n",
    "                         padding = 'same',\n",
    "                         activation = tf.nn.relu,\n",
    "                         name = 'conv3_1')\n",
    "    conv3_2 = tf.layers.conv2d(conv3_1,\n",
    "                         32,# output channel number\n",
    "                         (3,3),# kernel size\n",
    "                         padding = 'same',\n",
    "                         activation = tf.nn.relu,\n",
    "                         name = 'conv3_2')\n",
    "\n",
    "    # 4 * 4 * 32\n",
    "    pooling3 = tf.layers.max_pooling2d(conv3_2,\n",
    "                                   (2,2), # kernel size\n",
    "                                   (2,2), #stride\n",
    "                                   name = 'pool3')\n",
    "\n",
    "    # [None, 4 * 4 * 32]\n",
    "    flatten = tf.layers.flatten(pooling3)\n",
    "\n",
    "    y_ = tf.layers.dense(flatten, 10)\n",
    "    loss = tf.losses.sparse_softmax_cross_entropy(labels=y, logits=y_)\n",
    "    # y_ -> softmax\n",
    "    # y -> one_hot\n",
    "    # loss = ylogy_\n",
    "\n",
    "    # indices\n",
    "    predict = tf.argmax(y_,1)\n",
    "    # [1,0,1,1,1,0,0,0]\n",
    "    correct_prediction = tf.equal(predict,y)\n",
    "    accuary = tf.reduce_mean(tf.cast(correct_prediction,tf.float64))\n",
    "\n",
    "    with tf.name_scope('train_op'):\n",
    "        # 反向传播\n",
    "        train_op = tf.train.AdamOptimizer(1e-3).minimize(loss)"
   ],
   "metadata": {
    "collapsed": false,
    "pycharm": {
     "name": "#%%\n"
    }
   }
  },
  {
   "cell_type": "code",
   "execution_count": 4,
   "outputs": [
    {
     "name": "stdout",
     "output_type": "stream",
     "text": [
      "(?, 32, 32, 3)\n"
     ]
    }
   ],
   "source": [
    "def variable_summary(var, name):\n",
    "    \"\"\"\n",
    "    给一个变量的很多统计量建立summary\n",
    "    :param var:\n",
    "    :param name:\n",
    "    :return:\n",
    "    \"\"\"\n",
    "    with tf.name_scope(name):\n",
    "        mean = tf.reduce_mean(var)\n",
    "        with tf.name_scope('stddev'):\n",
    "            stddev = tf.sqrt(tf.reduce_mean(tf.square(var - mean)))\n",
    "        tf.summary.scalar('mean',mean)\n",
    "        tf.summary.scalar('stddev',stddev)\n",
    "        tf.summary.scalar('min',tf.reduce_min(var))\n",
    "        tf.summary.scalar('max',tf.reduce_max(var))\n",
    "        tf.summary.histogram('histogram',var)\n",
    "\n",
    "with tf.name_scope('summary'):\n",
    "    variable_summary(conv1_1,'conv1_1')\n",
    "    variable_summary(conv1_2,'conv1_2')\n",
    "    variable_summary(conv2_1,'conv2_1')\n",
    "    variable_summary(conv2_2,'conv2_2')\n",
    "    variable_summary(conv3_1,'conv3_1')\n",
    "    variable_summary(conv3_2,'conv3_2')\n",
    "loss_summary = tf.summary.scalar('loss',loss)\n",
    "# 'loss' : <10,1.1>,<20,1.08>\n",
    "accuracy_summary = tf.summary.scalar('accuracy',accuary)\n",
    "\n",
    "# 归一化的逆过程\n",
    "source_image = (X_image + 1) * 127.5\n",
    "print(source_image.shape)\n",
    "inputs_summary = tf.summary.histogram('inputs_image',source_image)\n",
    "\n",
    "# 合并summary\n",
    "merged_summary = tf.summary.merge_all()\n",
    "merged_summary_test = tf.summary.merge([loss_summary, accuracy_summary])\n",
    "\n",
    "LOG_DIR = '.'\n",
    "run_label = 'run_vgg_tensorboard'\n",
    "run_dir = os.path.join(LOG_DIR, run_label)\n",
    "if not os.path.exists(run_dir):\n",
    "    os.mkdir(run_dir)\n",
    "train_log_dir = os.path.join(run_dir, 'train')\n",
    "test_log_dir = os.path.join(run_dir, 'test')\n",
    "\n",
    "if not os.path.exists(train_log_dir):\n",
    "    os.mkdir(train_log_dir)\n",
    "if not os.path.exists(test_log_dir):\n",
    "    os.mkdir(test_log_dir)\n"
   ],
   "metadata": {
    "collapsed": false,
    "pycharm": {
     "name": "#%%\n"
    }
   }
  },
  {
   "cell_type": "code",
   "execution_count": 5,
   "outputs": [],
   "source": [
    "model_dir = os.path.join(run_dir, 'model')\n",
    "if not os.path.exists(model_dir):\n",
    "    os.mkdir(model_dir)\n",
    "\n",
    "saver = tf.train.Saver()\n",
    "model_name = 'ckp-10000'\n",
    "model_path = os.path.join(model_dir,model_name)"
   ],
   "metadata": {
    "collapsed": false,
    "pycharm": {
     "name": "#%%\n"
    }
   }
  },
  {
   "cell_type": "code",
   "execution_count": 7,
   "outputs": [
    {
     "name": "stdout",
     "output_type": "stream",
     "text": [
      "INFO:tensorflow:Restoring parameters from .\\run_vgg_tensorboard\\model\\ckp-10000\n",
      "model restore from .\\run_vgg_tensorboard\\model\\ckp-10000\n",
      "[Train] Step :100, loss: 0.51223, acc: 0.75000\n",
      "model saved to skp-00100\n",
      "[Train] Step :200, loss: 0.36844, acc: 0.90000\n",
      "model saved to skp-00200\n",
      "[Train] Step :300, loss: 0.23585, acc: 1.00000\n",
      "model saved to skp-00300\n",
      "[Train] Step :400, loss: 0.47052, acc: 0.85000\n",
      "model saved to skp-00400\n",
      "[Train] Step :500, loss: 0.14069, acc: 0.95000\n",
      "model saved to skp-00500\n",
      "[Train] Step :600, loss: 0.44436, acc: 0.90000\n",
      "model saved to skp-00600\n",
      "[Train] Step :700, loss: 0.72321, acc: 0.65000\n",
      "model saved to skp-00700\n",
      "[Train] Step :800, loss: 0.42289, acc: 0.80000\n",
      "model saved to skp-00800\n",
      "[Train] Step :900, loss: 0.61747, acc: 0.80000\n",
      "model saved to skp-00900\n",
      "[Train] Step :1000, loss: 0.66622, acc: 0.70000\n",
      "(10000, 3072)\n",
      "(10000,)\n",
      "[Test ] Step :1000, acc: 0.73850\n",
      "model saved to skp-01000\n"
     ]
    }
   ],
   "source": [
    "init = tf.global_variables_initializer()\n",
    "batch_size = 20\n",
    "train_steps = 1000\n",
    "test_steps = 100\n",
    "\n",
    "output_summary_every_steps = 100\n",
    "output_model_every_steps = 100\n",
    "\n",
    "with tf.Session() as sess:\n",
    "    sess.run(init)\n",
    "    train_writer = tf.summary.FileWriter(train_log_dir,sess.graph)\n",
    "    test_writer = tf.summary.FileWriter(test_log_dir)\n",
    "\n",
    "    fixed_test_batch_data, fixed_test_batch_labels = test_data.next_batch(batch_size)\n",
    "\n",
    "    if os.path.exists(model_path + '.index'):\n",
    "        saver.restore(sess,model_path)\n",
    "        print('model restore from %s' % model_path)\n",
    "    else:\n",
    "        print('model %s does not exist' % model_path)\n",
    "\n",
    "    for i in range(train_steps):\n",
    "        batch_data,batch_labels = train_data.next_batch(batch_size)\n",
    "        eval_ops = [loss, accuary, train_op]\n",
    "        should_output_summary = ((i + 1) % output_summary_every_steps == 0)\n",
    "        if should_output_summary:\n",
    "            eval_ops.append(merged_summary)\n",
    "\n",
    "        eval_ops_result = sess.run(\n",
    "            eval_ops,\n",
    "            feed_dict = {\n",
    "                X: batch_data,\n",
    "                y: batch_labels})\n",
    "        loss_val, acc_val = eval_ops_result[0:2]\n",
    "        if should_output_summary:\n",
    "            train_summary_str = eval_ops_result[-1]\n",
    "            train_writer.add_summary(train_summary_str,i + 1)\n",
    "            test_summary_str = sess.run([merged_summary_test],\n",
    "                                        feed_dict = {\n",
    "                                            X: fixed_test_batch_data,\n",
    "                                            y: fixed_test_batch_labels\n",
    "                                        })[0]\n",
    "            test_writer.add_summary(test_summary_str, i + 1)\n",
    "\n",
    "        if (i+1) % 100 == 0:\n",
    "            print('[Train] Step :%d, loss: %4.5f, acc: %4.5f'\\\n",
    "                  %(i+1,loss_val,acc_val))\n",
    "        if (i+1) % 1000 == 0:\n",
    "            test_data = CifarData(test_filenames, False)\n",
    "            all_test_acc_val = []\n",
    "            for j in range(test_steps):\n",
    "                test_batch_data ,test_batch_labels\\\n",
    "                    = test_data.next_batch(batch_size)\n",
    "                test_acc_val = sess.run(\n",
    "                    [accuary],\n",
    "                    feed_dict = {\n",
    "                        X: test_batch_data,\n",
    "                        y: test_batch_labels\n",
    "                    })\n",
    "                all_test_acc_val.append(test_acc_val)\n",
    "            test_acc = np.nanmean(all_test_acc_val)\n",
    "            print('[Test ] Step :%d, acc: %4.5f'\\\n",
    "                  %(i+1,test_acc))\n",
    "        if (i + 1) % output_model_every_steps == 0:\n",
    "            saver.save(sess,os.path.join(model_dir, 'ckp-%05d' % (i+1)))\n",
    "            print('model saved to skp-%05d' % (i+1))"
   ],
   "metadata": {
    "collapsed": false,
    "pycharm": {
     "name": "#%%\n"
    }
   }
  },
  {
   "cell_type": "code",
   "execution_count": null,
   "outputs": [],
   "source": [],
   "metadata": {
    "collapsed": false,
    "pycharm": {
     "name": "#%%\n"
    }
   }
  }
 ],
 "metadata": {
  "kernelspec": {
   "name": "pycharm-71e1ac8c",
   "language": "python",
   "display_name": "PyCharm (MachineLearning)"
  },
  "language_info": {
   "codemirror_mode": {
    "name": "ipython",
    "version": 2
   },
   "file_extension": ".py",
   "mimetype": "text/x-python",
   "name": "python",
   "nbconvert_exporter": "python",
   "pygments_lexer": "ipython2",
   "version": "2.7.6"
  }
 },
 "nbformat": 4,
 "nbformat_minor": 0
}